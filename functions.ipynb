{
 "cells": [
  {
   "cell_type": "code",
   "execution_count": 194,
   "metadata": {},
   "outputs": [],
   "source": [
    "import wikiquotes"
   ]
  },
  {
   "cell_type": "code",
   "execution_count": 47,
   "metadata": {},
   "outputs": [
    {
     "data": {
      "text/plain": [
       "['Mahatma Gandhi',\n",
       " 'Indira Gandhi',\n",
       " 'Rahul Gandhi',\n",
       " 'Arun Manilal Gandhi',\n",
       " 'Rajiv Gandhi',\n",
       " 'Gandhi (film)',\n",
       " 'Anand Gandhi',\n",
       " 'Virchand Gandhi',\n",
       " 'Maneka Gandhi',\n",
       " 'Body']"
      ]
     },
     "execution_count": 47,
     "metadata": {},
     "output_type": "execute_result"
    }
   ],
   "source": [
    "wikiquotes.search(\"gandi\", \"english\")"
   ]
  },
  {
   "cell_type": "code",
   "execution_count": 51,
   "metadata": {},
   "outputs": [
    {
     "data": {
      "text/plain": [
       "38"
      ]
     },
     "execution_count": 51,
     "metadata": {},
     "output_type": "execute_result"
    }
   ],
   "source": [
    "len(wikiquotes.get_quotes('Albus Dumbledore', \"english\"))"
   ]
  },
  {
   "cell_type": "code",
   "execution_count": 60,
   "metadata": {},
   "outputs": [
    {
     "data": {
      "text/plain": [
       "['Last words in Rick and Morty',\n",
       " 'Rick Sanchez – Justin Roiland',\n",
       " 'Morty Smith – Justin Roiland',\n",
       " 'Jerry Smith – Chris Parnell',\n",
       " 'Beth Smith (née Sanchez) – Sarah Chalke',\n",
       " 'Summer Smith – Spencer Grammer',\n",
       " 'Encyclopedic article on Rick and Morty at Wikipedia',\n",
       " 'Media related to Rick and Morty at Wikimedia Commons',\n",
       " 'Rick and Morty quotes at the Internet Movie Database',\n",
       " 'Official site']"
      ]
     },
     "execution_count": 60,
     "metadata": {},
     "output_type": "execute_result"
    }
   ],
   "source": [
    "(wikiquotes.get_quotes('Rick and Morty', \"english\"))"
   ]
  },
  {
   "cell_type": "code",
   "execution_count": 67,
   "metadata": {},
   "outputs": [
    {
     "data": {
      "text/plain": [
       "['Last words in Rick and Morty',\n",
       " 'Rick Sanchez – Justin Roiland',\n",
       " 'Morty Smith – Justin Roiland',\n",
       " 'Jerry Smith – Chris Parnell',\n",
       " 'Beth Smith (née Sanchez) – Sarah Chalke',\n",
       " 'Summer Smith – Spencer Grammer',\n",
       " 'Encyclopedic article on Rick and Morty at Wikipedia',\n",
       " 'Media related to Rick and Morty at Wikimedia Commons',\n",
       " 'Rick and Morty quotes at the Internet Movie Database',\n",
       " 'Official site']"
      ]
     },
     "execution_count": 67,
     "metadata": {},
     "output_type": "execute_result"
    }
   ],
   "source": [
    "wikiquotes.get_quotes(\"Rick and Morty quotes at the Internet Movie Database\", \"english\")"
   ]
  },
  {
   "cell_type": "code",
   "execution_count": 195,
   "metadata": {},
   "outputs": [
    {
     "data": {
      "text/plain": [
       "['How bold one gets when one is sure of being loved.',\n",
       " \"Woe to you, my Princess, when I come... you shall see who is the stronger, a gentle girl who doesn't eat enough or a big wild man who has cocaine in his body.\",\n",
       " 'Princess, my little Princess,  Oh, how wonderful it will be! I am coming with money and staying a long time and bringing something beautiful for you and then go on to Paris and become a great scholar and then come back to Vienna with a huge, enormous halo, and then we will soon get married, and I will cure all the incurable nervous cases and through you I shall be healthy and I will go on kissing you till you are strong and gay and happy — and \"if they haven\\'t died, they are still alive today.\"',\n",
       " \"A man like me cannot live without a hobby-horse, a consuming passion — in Schiller's words a tyrant. I have found my tyrant, and in his service I know no limits. My tyrant is psychology. it has always been my distant, beckoning goal and now since I have hit upon the neuroses, it has come so much the nearer.\",\n",
       " 'I do not doubt that it would be easier for fate to take away your suffering than it would for me. But you will see for yourself that much has been gained if we succeed in turning your hysterical misery into common unhappiness.',\n",
       " 'Being entirely honest with oneself is a good exercise.',\n",
       " 'I do not in the least underestimate bisexuality. . . I expect it to provide all further enlightenment.',\n",
       " 'In the following pages, I shall demonstrate that there exists a psychological technique by which dreams may be interpreted and that upon the application of this method every dream will show itself to be a senseful psychological structure which may be introduced into an assignable place in the psychic activity of the waking state. I shall furthermore endeavor to explain the processes which give rise to the strangeness and obscurity of the dream, and to discover through them the psychic forces, which operate whether in combination or opposition, to produce the dream. This accomplished by investigation will terminate as it will reach the point where the problem of the dream meets broader problems, the solution of which must be attempted through other material.',\n",
       " 'I am actually not at all a man of science, not an observer, not an experimenter, not a thinker. I am by temperament nothing but a conquistador — an adventurer, if you want it translated — with all the curiosity, daring, and tenacity characteristic of a man of this sort.',\n",
       " 'The interpretation of dreams is the royal road to a knowledge of the unconscious activities of the mind.',\n",
       " 'And now, the main thing! As far as I can see, my next work will be called \"Human Bisexuality.\" It will go to the root of the problem and say the last word it may be granted to say — the last and the most profound.',\n",
       " 'No one who, like me, conjures up the most evil of those half-tamed demons that inhabit the human beast, and seeks to wrestle with them, can expect to come through the struggle unscathed.',\n",
       " 'He that has eyes to see and ears to hear may convince himself that no mortal can keep a secret. If his lips are silent, he chatters with his fingertips; betrayal oozes out of him at every pore.',\n",
       " 'A person who feels pleasure in producing pain in someone else in a sexual relationship is also capable of enjoying as pleasure any pain which he may himself derive from sexual relations. A sadist is always at the same time a masochist.',\n",
       " 'Psychoanalysis is in essence a cure through love.',\n",
       " 'Moreover, the act of birth is the first experience of anxiety, and thus the source and prototype of the affect of anxiety.',\n",
       " 'We have long observed that every neurosis has the result, and therefore probably the purpose, of forcing the patient out of real life, of alienating him from actuality.',\n",
       " 'The virtuous man contents himself with dreaming that which the wicked man does in actual life.',\n",
       " 'Conscience is the internal perception of the rejection of a particular wish operating within us.',\n",
       " 'At bottom God is nothing more than an exalted father.',\n",
       " '',\n",
       " 'Psychoanalysis ... should find a place among the methods whose aim is to bring about the highest ethical and intellectual development of the individual.',\n",
       " 'The psychic development of the individual is a short repetition of the course of development of the race.',\n",
       " 'The ego is not master in its own house.',\n",
       " 'Wenn man der unbestrittene Liebling der Mutter gewesen ist, so behält man fürs Leben jenes Eroberergefühl, jene Zuversicht des Erfolges, welche nicht selten wirklich den Erfolg nach sich zieht.',\n",
       " \"Cruel though it may sound, we must see to it that the patient's suffering, to a degree that is in some way or other effective, does not come to an end prematurely. If, owing to the symptoms having been taken apart and having lost their value, his suffering becomes mitigated, we must re-instate it elsewhere in the form of some appreciable privation; otherwise we run the danger of never achieving any improvements except quite insignificant and transitory ones\",\n",
       " 'We are and remain Jews. The others will only exploit us and will never understand and appreciate us.',\n",
       " 'Biology is truly a land of unlimited possibilities. We may expect it to give us the most surprising information, and we cannot guess what answers it will return in a few dozen years. ...They may be of a kind which will blow away the whole of our artificial structure of hypothesis.',\n",
       " 'The unconscious is the larger circle which includes within itself the smaller circle of the conscious; everything conscious has its preliminary step in the unconscious, whereas the unconscious may stop with this step and still claim full value as a psychic activity. Properly speaking, the unconscious is the real psychic; its inner nature is just as unknown to us as the reality of the external world, and it is just as imperfectly reported to us through the data of consciousness as is the external world through the indications of our sensory organs.',\n",
       " 'The common characteristic of all perversions, on the other hand, is that they have abandoned reproduction as their aim. We term sexual activity perverse when it has renounced the aim of reproduction and follows the pursuit of pleasure as an independent goal. And so you realize that the turning point in the development of sexual life lies in its subjugation to the purpose of reproduction. Everything this side of the turning point, everything that has given up this purpose and serves the pursuit of pleasure alone, must carry the term \"perverse\" and as such be regarded with contempt.',\n",
       " 'Cruelty and intolerance to those who do not belong to it are natural to every religion.',\n",
       " 'We read in Rabelais of how the Devil took flight when the woman showed him her vulva.',\n",
       " 'Wer verliebt ist, ist demütig. Wer liebt, hat sozusagen ein Stück seines Narzißmus eingebüßt.',\n",
       " 'Die Anatomie ist das Schicksal',\n",
       " 'When the wayfarer whistles in the dark, he may be disavowing his timidity, but he does not see any more clearly for doing so.',\n",
       " 'The poets and philosophers before me discovered the unconscious; what I discovered was the scientific method by which the unconscious can be studied.',\n",
       " 'It is easy to see that the ego is that part of the id which has been modified by the direct influence of the external world.',\n",
       " 'The ego represents what we call reason and sanity, in contrast to the id which contains the passions.',\n",
       " 'The sexual wishes in regard to the mother become more intense and the father is perceived as an obstacle to the; this gives rise to the Oedipus complex.',\n",
       " 'We obtain our concept of the unconscious, therefore, from the theory of repression … We see, however that we have two kinds of unconscious — that which is latent but capable of becoming conscious, and that which is repressed and not capable of becoming conscious in the ordinary way.',\n",
       " 'If the truth of religious doctrines is dependent on an inner experience that bears witness to the truth, what is one to make of the many people who do not have that experience?',\n",
       " 'The voice of the intellect is a soft one, but it does not rest until it has gained a hearing. Ultimately, after endlessly repeated rebuffs, it succeeds. This is one of the few points in which it may be optimistic about the future of mankind, but in itself it signifies not a little.',\n",
       " 'Es braucht nicht gesagt zu werden, daß eine Kultur, welche eine so große Zahl von Teilnehmern unbefriedigt läßt und zur Auflehnung treibt, weder Aussicht hat, sich dauernd zu erhalten, noch es verdient.',\n",
       " 'Religious ideas have sprung from the same need as all the other achievements of culture: from the necessity for defending itself against the crushing supremacy of nature.',\n",
       " 'A poor girl may have an illusion that a prince will come and fetch her home. It is possible, some such cases have occurred. That the Messiah will come and found a golden age is much less probable.',\n",
       " 'Religious doctrines … are all illusions, they do not admit of proof, and no one can be compelled to consider them as true or to believe in them.',\n",
       " 'Where the questions of religion are concerned people are guilty of every possible kind of insincerity and intellectual misdemeanor.',\n",
       " 'Immorality, no less than morality, has at all times found support in religion.',\n",
       " 'Our knowledge of the historical worth of certain religious doctrines increases our respect for them, but does not invalidate our proposal that they should cease to be put forward as the reasons for the precepts of civilization. On the contrary! Those historical residues have helped us to view religious teachings, as it were, as neurotic relics, and we may now argue that the time has probably come, as it does in an analytic treatment, for replacing the effects of repression by the results of the rational operation of the intellect.',\n",
       " 'The true believer is in a high degree protected against the danger of certain neurotic afflictions, by accepting the universal neurosis he is spared the task of forming a personal neurosis.',\n",
       " '\"In so doing, the idea forces itself upon him that religion is comparable to a childhood neurosis, and he is optimistic enough to suppose that mankind will surmount this neurotic phase, just as so many children grow out of their similar neurosis.\"',\n",
       " 'Religion is a system of wishful illusions together with a disavowal of reality, such as we find nowhere else but in a state of blissful hallucinatory confusion. Religion\\'s eleventh commandment is \"Thou shalt not question.\"',\n",
       " \"But man's helplessness remains and along with it his longing for his father, and the gods. The gods retain their threefold task: they must exorcise the terrors of nature, they must reconcile men to the cruelty of Fate, particularly as it is shown in death, and they must compensate them for the sufferings and privations which a civilized life in common has imposed on them.\",\n",
       " 'Man kann sich des Eindrucks nicht erwehren, daß die Menschen gemeinhin mit falschen Maßstäben messen, Macht, Erfolg und Reichtum für sich anstreben und bei anderen bewundern, die wahren Werte des Lebens aber unterschätzen.',\n",
       " 'Towards the outside, at any rate, the ego seems to maintain clear and sharp lines of demarcation. There is only one state — admittedly an unusual state, but not one that can be stigmatized as pathological — in which it does not do this. At the height of being in love the boundary between ego and object threatens to melt away. Against all the evidence of his senses, a man who is in love declares that \"I\" and \"you\" are one, and is prepared to behave as if it were a fact.',\n",
       " 'One feels inclined to say that the intention that man should be \"happy\" is not included in the plan of \"Creation.\"',\n",
       " 'Beauty has no obvious use; nor is there any clear cultural necessity for it. Yet civilization could not do without it.',\n",
       " 'We are never so defenceless against suffering as when we love.',\n",
       " 'The first requisite of civilization, therefore, is that of justice—that is, the assurance that a law once made will not be broken in favour of an individual.',\n",
       " \"I cannot inquire into whether the abolition of private property is expedient or advantageous. But I am able to recognize that the psychological premisses on which the [system]] is based are an untenable illusion. In abolishing private property we deprive the human love of aggression of one of its instruments, certainly a strong one, though certainly not the strongest, but we have not altered the differences in power and influence which are misused by aggressiveness, nor have we altered anything in its nature. Aggressiveness was not created by property. It reigned almost without limit in primitive times, when property was still very scanty, and it already shows itself in the nursery almost before property has given up its primal, anal form; it forms the basis of every relation of affection and love among people (with the single exception, perhaps, of the mother's relations to her male child).\",\n",
       " 'It is always possible to bind together a considerable number of people in love, so long as there are other people left over to receive manifestations of their aggressiveness.',\n",
       " 'In some place in my soul, in a very hidden corner, I am a fanatical Jew. I am very much astonished to discover myself as such in spite of all efforts to be unprejudiced and impartial. What can I do against it at my age?',\n",
       " 'What progress we are making. In the Middle Ages they would have burned me. Now they are content with burning my books.',\n",
       " 'Homosexuality is assuredly no advantage, but it is nothing to be ashamed of, no vice, no degradation, it cannot be classified as an illness.',\n",
       " \"A man's heterosexuality will not put up with any homosexuality, and vice versa.\",\n",
       " 'Every normal person, in fact, is only normal on the average. His ego approximates to that of the psychotic in some part or other and to a greater or lesser extent.',\n",
       " 'The Mosaic religion had been a Father religion; Christianity became a Son religion. The old God, the Father, took second place; Christ, the Son, stood in His stead, just as in those dark times every son had longed to do.',\n",
       " 'Man found that he was faced with the acceptance of \"spiritual\" forces, that is to say such forces as cannot be comprehended by the senses, particularly not by sight, and yet having undoubted, even extremely strong, effects. If we may trust to language, it was the movement of the air that provided the image of spirituality, since the spirit borrows its name from the breath of wind (animus, spiritus, Hebrew: ruach = smoke). The idea of the soul was thus born as the spiritual principle in the individual. Observation found the breath of air again in the human breath, which ceases with death; even today we talk of a dying man breathing his last. Now the realm of spirits had opened for man, and he was ready to endow everything in nature with the soul he had discovered in himself.',\n",
       " 'It often seems that the poet\\'s derisive comment is not unjustified when he says of the philosopher: \"With his nightcaps and the tatters of his dressing-gown he patches the gaps in the structure of the universe.\"',\n",
       " 'Analogies prove nothing, that is quite true, but they can make one feel more at home.',\n",
       " 'The only bodily organ which is really regarded as inferior is the atrophied penis, a girls clitoris.',\n",
       " 'One might compare the relation of the ego to the id with that between a rider and his horse. The horse provides the locomotor energy, and the rider has the prerogative of determining the goal and of guiding the movements of his powerful mount towards it. But all too often in the relations between the ego and the id we find a picture of the less ideal situation in which the rider is obliged to guide his horse in the direction in which it itself wants to go.',\n",
       " 'The poor ego has a still harder time of it; it has to serve three harsh masters, and it has to do its best to reconcile the claims and demands of all three... The three tyrants are the external world, the superego, and the id.',\n",
       " 'Where id is, there shall ego be.',\n",
       " 'Thinking is an experimental dealing with small quantities of energy, just as a general moves miniature figures over a map before setting his troops in action.',\n",
       " 'If one wishes to form a true estimate of the full grandeur of religion, one must keep in mind what it undertakes to do for men. It gives them information about the source and origin of the universe, it assures them of protection and final happiness amid the changing vicissitudes of life, and it guides their thoughts and motions by means of precepts which are backed by the whole force of its authority.',\n",
       " 'Religion is an attempt to get control over the sensory world, in which we are placed, by means of the wish-world, which we have developed inside us as a result of biological and psychological necessities.',\n",
       " 'Religion is an illusion and it derives its strength from the fact that it falls in with our instinctual desires.',\n",
       " \"The expectation that every neurotic phenomenon can be cured may, I suspect, be derived from the layman's belief that the neuroses are something quite unnecessary which have no right whatever to exist. Whereas in fact they are severe, constitutionally fixed illnesses, which rarely restrict themselves to only a few attacks but persist as a rule over long periods throughout life.\",\n",
       " 'The conscious mind may be compared to a fountain playing in the sun and falling back into the great subterranean pool of subconscious from which it rises.',\n",
       " \"...three of life's most important areas: work, love, and taking responsibility.\",\n",
       " 'Was will das Weib?',\n",
       " 'America is a mistake, admittedly a gigantic mistake, but a mistake nevertheless.',\n",
       " 'A certain degree of neurosis is of inestimable value as a drive, especially to a psychologist.',\n",
       " 'I have found little that is \"good\" about human beings on the whole. In my experience most of them are trash, no matter whether they publicly subscribe to this or that ethical doctrine or to none at all. That is something that you cannot say aloud or perhaps even think.',\n",
       " 'Everywhere I go I find that a poet has been there before me.',\n",
       " 'Dogs love their friends and bite their enemies, quite unlike people, who are incapable of pure love and always have to mix love and hate in their object-relations.',\n",
       " \"I don't rack my brains much over the subject of good and evil, but, on average, I haven't discovered much 'good' in men. Based on what I know of them, they are for the most part nothing but scoundrels.\"]"
      ]
     },
     "execution_count": 195,
     "metadata": {},
     "output_type": "execute_result"
    }
   ],
   "source": [
    "(wikiquotes.get_quotes(\"Sigmund Freud\", \"english\"))"
   ]
  },
  {
   "cell_type": "markdown",
   "metadata": {},
   "source": [
    "# Spell correction"
   ]
  },
  {
   "cell_type": "code",
   "execution_count": 83,
   "metadata": {},
   "outputs": [
    {
     "name": "stdout",
     "output_type": "stream",
     "text": [
      "autocorrect.spell is deprecated, use autocorrect.Speller instead\n"
     ]
    },
    {
     "data": {
      "text/plain": [
       "'WabiSabi'"
      ]
     },
     "execution_count": 83,
     "metadata": {},
     "output_type": "execute_result"
    }
   ],
   "source": [
    "from autocorrect import spell\n",
    "spell('WabiSabi')"
   ]
  },
  {
   "cell_type": "markdown",
   "metadata": {},
   "source": [
    "# Testing string_transformer"
   ]
  },
  {
   "cell_type": "code",
   "execution_count": 146,
   "metadata": {},
   "outputs": [],
   "source": [
    "\n",
    "import re\n",
    "from autocorrect import spell\n",
    "\n",
    "\n",
    "def rmv_apostrophe(string):\n",
    "    # specific\n",
    "    phrase = re.sub(r\"won\\'t\", \"will not\", string)\n",
    "    phrase = re.sub(r\"can\\'t\", \"can not\", phrase)\n",
    "    phrase = re.sub(r\"\\'cause'\", \"because\", phrase)\n",
    "    phrase = re.sub(r\"let\\s\", \"let us\", phrase)\n",
    "    phrase = re.sub(r\"ma\\'am\", \"madam\", phrase)\n",
    "    phrase = re.sub(r\"y\\'all'\", \"you all\", phrase)\n",
    "    phrase = re.sub(r\"o\\'clock\", \"of the clock\", phrase)    \n",
    "\n",
    "    # general\n",
    "    phrase = re.sub(r\"n\\'t\", \" not\", phrase)\n",
    "    phrase = re.sub(r\"\\'re\", \" are\", phrase)\n",
    "    phrase = re.sub(r\"\\'s\", \" is\", phrase)\n",
    "    phrase = re.sub(r\"\\'d\", \" would\", phrase)\n",
    "    phrase = re.sub(r\"\\'ll\", \" will\", phrase)\n",
    "    phrase = re.sub(r\"\\'t\", \" not\", phrase)\n",
    "    phrase = re.sub(r\"\\'ve\", \" have\", phrase)\n",
    "    phrase = re.sub(r\"\\'m\", \" am\", phrase)\n",
    "    \n",
    "    # special apostrophes\n",
    "    phrase = re.sub(r\"\\'\", \" \", phrase)\n",
    "    \n",
    "    return phrase\n",
    "\n",
    "\n",
    "def string_transformer(string, tokenizer):\n",
    "    # lowercase\n",
    "    # (apostrophes)\n",
    "    # spaces before periods\n",
    "    phrase = string.lower()\n",
    "    \n",
    "    phrase = rmv_apostrophe(phrase)\n",
    "    \n",
    "    sentence_list = [sentence.strip() for sentence in phrase.strip().split('.')]\n",
    "    sentence_list = [sentence for sentence in sentence_list if sentence !='']\n",
    "    sentence_list = [sentence+' .' for sentence in sentence_list]\n",
    "    \n",
    "    #tokenized = [tokenizer.encode(sentence) for sentence in sentence_list]\n",
    "    \n",
    "    #return [item for sublist in tokenized for item in sublist]\n",
    "    \n",
    "    return sentence_list"
   ]
  },
  {
   "cell_type": "code",
   "execution_count": 16,
   "metadata": {},
   "outputs": [],
   "source": [
    "def intersection(lst1, lst2): \n",
    "    lst3 = [value for value in lst1 if value in lst2] \n",
    "    return lst3"
   ]
  },
  {
   "cell_type": "code",
   "execution_count": 47,
   "metadata": {},
   "outputs": [],
   "source": [
    "def union(lst1, lst2): \n",
    "    final_list = list(set(lst1) | set(lst2)) \n",
    "    return final_list "
   ]
  },
  {
   "cell_type": "code",
   "execution_count": 48,
   "metadata": {},
   "outputs": [],
   "source": [
    "def diff(li1, li2): \n",
    "    return (list(set(li1) - set(li2))) "
   ]
  },
  {
   "cell_type": "code",
   "execution_count": 20,
   "metadata": {},
   "outputs": [],
   "source": [
    "import string"
   ]
  },
  {
   "cell_type": "code",
   "execution_count": 65,
   "metadata": {},
   "outputs": [
    {
     "data": {
      "text/plain": [
       "['challenges are gifts that force us to search for a new center of gravity',\n",
       " 'the biggest adventure you can ever take is to live the life of your dreams',\n",
       " 'be thankful for what you have you will end up having more if you concentrate on what you dont have you will never ever have enough',\n",
       " 'surround yourself with only people who are going to lift you higher',\n",
       " 'whenever you see a successful person you only see the public glories never the private sacrifices to reach them',\n",
       " 'you get in life what you have the courage to ask for',\n",
       " 'luck is a matter of preparation meeting opportunity',\n",
       " 'the thing you fear most has no power your fear of it is what has the power facing the truth really will set you free',\n",
       " 'the biggest adventure you can ever take is to live the life of your dreams',\n",
       " 'real integrity is doing the right thing knowing that nobody is going to know whether you did it or not',\n",
       " 'you can have it all just not all at once',\n",
       " 'doing the best at this moment puts you in the best place for the next moment',\n",
       " 'one of the hardest things in life to learn are which bridges to cross and which bridges to burn',\n",
       " 'the whole point of being alive is to evolve into the complete person you were intended to be',\n",
       " 'the more you praise and celebrate your life the more there is in life to celebrate',\n",
       " 'whatever the mind of man can conceive and believe it can achieve',\n",
       " '']"
      ]
     },
     "execution_count": 65,
     "metadata": {},
     "output_type": "execute_result"
    }
   ],
   "source": [
    "decent_0 = \"challenges are gifts that force us to search for a new center of gravity.. the biggest adventure you can ever take is to live the life of your dreams.. be thankful for what you have ; you will end up having more. if you concentrate on what you don't have, you will never, ever have enough.. surround yourself with only people who are going to lift you higher.. whenever you see a successful person, you only see the public glories, never the private sacrifices to reach them.. you get in life what you have the courage to ask for.. luck is a matter of preparation meeting opportunity.. the thing you fear most has no power. your fear of it is what has the power. facing the truth really will set you free.. the biggest adventure you can ever take is to live the life of your dreams.. real integrity is doing the right thing, knowing that nobody is going to know whether you did it or not.. you can have it all. just not all at once.. doing the best at this moment puts you in the best place for the next moment.. one of the hardest things in life to learn are which bridges to cross and which bridges to burn.. the whole point of being alive is to evolve into the complete person you were intended to be.. the more you praise and celebrate your life, the more there is in life to celebrate.. whatever the mind of man can conceive and believe, it can achieve..\"\n",
    "decent_0 = decent_0.split('..')\n",
    "decent_0 = [s.translate(str.maketrans('', '', string.punctuation)) for s in decent_0]\n",
    "decent_0 = [\" \".join(s.split()) for s in decent_0]\n",
    "decent_0 = [s.strip() for s in decent_0]\n",
    "decent_0"
   ]
  },
  {
   "cell_type": "code",
   "execution_count": 81,
   "metadata": {},
   "outputs": [
    {
     "data": {
      "text/plain": [
       "['one of the hardest things in life to learn are which bridges to cross and which bridges to burn',\n",
       " 'i trust that everything happens for a reason even when we are not wise enough to see it',\n",
       " 'be thankful for what you have you will end up having more if you concentrate on what you do not have you will never ever have enough',\n",
       " 'luck is a matter of preparation meeting opportunity',\n",
       " 'turn your wounds into wisdom',\n",
       " 'self esteem comes from being able to define the world in your own terms and refusing to abide by the judgments of others',\n",
       " 'you can have it all just not all at once',\n",
       " 'surround yourself with great people',\n",
       " 'the whole point of being alive is to evolve into the complete person you were intended to be',\n",
       " 'the thing you fear most has no power your fear of it is what has the power facing the truth really will set you free',\n",
       " 'surround yourself only with people who are going to take you higher',\n",
       " 'real integrity is doing the right thing knowing that nobody is going to know whether you did it or not',\n",
       " 'failure is another steppingstone to greatness',\n",
       " 'I am timeless incomplete and imperfect No age No sense of time',\n",
       " 'think like a queen queen is not afraid to fail failure is another steppingstone to greatness',\n",
       " 'the biggest adventure you can ever take is to live the life of your dreams']"
      ]
     },
     "execution_count": 81,
     "metadata": {},
     "output_type": "execute_result"
    }
   ],
   "source": [
    "decent_1  = ['one of the hardest things in life to learn are which bridges to cross and which bridges to burn . ', 'i trust that everything happens for a reason , even when we are not wise enough to see it .', 'be thankful for what you have ; you will end up having more . if you concentrate on what you do not have, you will never, ever have enough .', 'luck is a matter of preparation meeting opportunity .', 'turn your wounds into wisdom . ', 'self esteem comes from being able to define the world in your own terms and refusing to abide by the judgments of others .', 'you can have it all . just not all at once . ', 'surround yourself with great people .', 'the whole point of being alive is to evolve into the complete person you were intended to be .', 'the thing you fear most has no power . your fear of it is what has the power . facing the truth really will set you free .', 'surround yourself only with people who are going to take you higher .', 'real integrity is doing the right thing , knowing that nobody is going to know whether you did it or not .', ' failure is another steppingstone to greatness . ', 'I am timeless, incomplete and imperfect. No age. No sense of time.', 'think like a queen .  queen is not afraid to fail . failure is another steppingstone to greatness . ', 'the biggest adventure you can ever take is to live the life of your dreams  .']\n",
    "decent_1 = [s.translate(str.maketrans('', '', string.punctuation)) for s in decent_1]\n",
    "decent_1 = [\" \".join(s.split()) for s in decent_1]\n",
    "decent_1 = [s.strip() for s in decent_1]\n",
    "decent_1"
   ]
  },
  {
   "cell_type": "code",
   "execution_count": 109,
   "metadata": {},
   "outputs": [
    {
     "data": {
      "text/plain": [
       "['my name is wabisabi',\n",
       " 'self esteem comes from being able to define the world in your own terms and refusing to abide by the judgments of others',\n",
       " 'luck is a matter of preparation meeting opportunity',\n",
       " 'real integrity is doing the right thing knowing that nobody is going to know whether you did it or not the more you praise and celebrate your life the more there is in life to celebrate',\n",
       " 'be thankful for what you have you will end up having more',\n",
       " 'if you concentrate on what you dont have you will never ever have enough',\n",
       " 'i trust that everything happens for a reason even when we are not wise enough to see it',\n",
       " 'the biggest adventure you can ever take is to live the life of your dreams',\n",
       " 'to escape fear you must go through it whenever you see a successful person you only see the public glories never the private sacrifices to reach them',\n",
       " 'i alone cannot change the world but i can cast a stone across the water to create many ripples',\n",
       " 'the biggest adventure you can ever take is to live the life of your dreams',\n",
       " 'dont be afraid to ask for yourself doing the best at this moment puts you in the best place for the next moment',\n",
       " 'surround yourself with great people',\n",
       " 'surround yourself only with people who are going to take you higher',\n",
       " 'turn your wounds into wisdom']"
      ]
     },
     "execution_count": 109,
     "metadata": {},
     "output_type": "execute_result"
    }
   ],
   "source": [
    "decent_2 = ['my name is wabisabi. ', 'self - esteem comes from being able to define the world in your own terms and refusing to abide by the judgments of others..',' luck is a matter of preparation meeting opportunity.. ', 'real integrity is doing the right thing, knowing that nobody is going to know whether you did it or not.. the more you praise and celebrate your life, the more there is in life to celebrate.. ', 'be thankful for what you have ; you will end up having more. ', 'if you concentrate on what you don\\'t have, you will never, ever have enough.. ', 'i trust that everything happens for a reason, even when we are not wise enough to see it.. ', 'the biggest adventure you can ever take is to live the life of your dreams.. ', 'to escape fear, you must go through it. whenever you see a successful person, you only see the public glories, never the private sacrifices to reach them.. ', 'i alone cannot change the world, but i can cast a stone across the water to create many ripples.. ', 'the biggest adventure you can ever take is to live the life of your dreams.. ', 'don\\'t be afraid to ask for yourself. doing the best at this moment puts you in the best place for the next moment..', 'surround yourself with great people.. ', 'surround yourself only with people who are going to take you higher.. ', 'turn your wounds into wisdom..', ]\n",
    "decent_2 = [s.translate(str.maketrans('', '', string.punctuation)) for s in decent_2]\n",
    "decent_2 = [\" \".join(s.split()) for s in decent_2]\n",
    "decent_2 = [s.strip() for s in decent_2]\n",
    "decent_2"
   ]
  },
  {
   "cell_type": "code",
   "execution_count": 110,
   "metadata": {},
   "outputs": [
    {
     "data": {
      "text/plain": [
       "['surround yourself only with people who are going to take you higher',\n",
       " 'surround yourself with great people',\n",
       " 'failure is another steppingstone to greatness',\n",
       " 'selfesteem comes from being able to define the world in your own terms and refusing to abide by the judgments of others',\n",
       " 'the biggest adventure you can ever take is to live the life of your dreams',\n",
       " 'i alone cannot change the world but i can cast a stone across the water to create many ripples',\n",
       " 'whenever you see a successful person you only see the public glories never the private sacrifices to reach them',\n",
       " 'think like a queen queen is not afraid to fail failure is another steppingstone to greatness',\n",
       " 'from time to time you may stumble fall you will for sure you will have questions and you will have doubts about your path but i know this if you are willing to be guided by that still small voice that is the gps within yourself to find out what makes you come alive you will be more than okay you will be happy you will be successful and you will make a difference in the world',\n",
       " 'the whole point of being alive is to evolve into the complete person you were intended to be',\n",
       " 'because when you inevitably stumble and find yourself stuck in a hole that is the story that will get you out what is your true calling what is your dharma what is your purpose',\n",
       " 'real integrity is doing the right thing knowing that nobody is going to know whether you did it or not',\n",
       " 'the key to realizing a dream is to focus not on success but on significance and then even the small steps and little victories along your path will take on greater meaning',\n",
       " 'I am timeless incomplete and imperfect No age No sense of time',\n",
       " 'you get in life what you have the courage to ask for',\n",
       " 'turn your wounds into wisdom']"
      ]
     },
     "execution_count": 110,
     "metadata": {},
     "output_type": "execute_result"
    }
   ],
   "source": [
    "bad_0 = ['surround yourself only with people who are going to take you higher .', 'surround yourself with great people .', ' failure is another steppingstone to greatness . ', 'self-esteem comes from being able to define the world in your own terms and refusing to abide by the judgments of others .', 'the biggest adventure you can ever take is to live the life of your dreams  .', 'i alone cannot change the world , but i can cast a stone across the water to create many ripples .', 'whenever you see a successful person, you only see the public glories,  never the private sacrifices to reach them .', 'think like a queen .  queen is not afraid to fail . failure is another steppingstone to greatness . ', 'from time to time you may stumble , fall , you will for sure , you will have questions and you will have doubts about your path . but i know this , if you are willing to be guided by , that still small voice that is the gps within yourself , to find out what makes you come alive , you will be more than okay . you will be happy , you will be successful , and you will make a difference in the world .', 'the whole point of being alive is to evolve into the complete person you were intended to be .', 'because when you inevitably stumble and find yourself stuck in a hole that is the story that will get you out : what is your true calling ? what is your dharma ? what is your purpose ?', 'real integrity is doing the right thing , knowing that nobody is going to know whether you did it or not .', 'the key to realizing a dream is to focus not on success but on significance , and then even the small steps and little victories along your path will take on greater meaning .', 'I am timeless, incomplete and imperfect. No age. No sense of time.', 'you get in life what you have the courage to ask for .', 'turn your wounds into wisdom . ']\n",
    "bad_0 = [s.translate(str.maketrans('', '', string.punctuation)) for s in bad_0]\n",
    "bad_0 = [\" \".join(s.split()) for s in bad_0]\n",
    "bad_0 = [s.strip() for s in bad_0]\n",
    "bad_0"
   ]
  },
  {
   "cell_type": "code",
   "execution_count": 111,
   "metadata": {},
   "outputs": [
    {
     "data": {
      "text/plain": [
       "['the whole point of being alive is to evolve into the complete person you were intended to be',\n",
       " 'to escape fear you must go through it',\n",
       " 'self esteem comes from being able to define the world in your own terms and refusing to abide by the judgments of others',\n",
       " 'forgiveness is giving up the hope that the past could have been any different',\n",
       " 'challenges are gifts that force us to search for a new center of gravity',\n",
       " 'real integrity is doing the right thing knowing that nobody is going to know whether you did it or not',\n",
       " 'dont be afraid to ask for yourself i trust that everything happens for a reason even when we are not wise enough to see it',\n",
       " 'failure is another steppingstone to greatness',\n",
       " 'the biggest adventure you can ever take is to live the life of your dreams',\n",
       " 'surround yourself only with people who are going to take you higher',\n",
       " 'whatever the mind of man can conceive and believe it can achieve',\n",
       " 'whenever you see a successful person you only see the public glories never the private sacrifices to reach them',\n",
       " 'the thing you fear most has no power your fear of it is what has the power facing the truth really will set you free',\n",
       " 'luck is a matter of preparation meeting opportunity',\n",
       " 'you can have it all just not all at once',\n",
       " '']"
      ]
     },
     "execution_count": 111,
     "metadata": {},
     "output_type": "execute_result"
    }
   ],
   "source": [
    "bad_1 = \"the whole point of being alive is to evolve into the complete person you were intended to be.. to escape fear, you must go through it.. self - esteem comes from being able to define the world in your own terms and refusing to abide by the judgments of others.. forgiveness is giving up the hope that the past could have been any different.. challenges are gifts that force us to search for a new center of gravity.. real integrity is doing the right thing, knowing that nobody is going to know whether you did it or not.. don't be afraid to ask for yourself. i trust that everything happens for a reason, even when we are not wise enough to see it.. failure is another steppingstone to greatness.. the biggest adventure you can ever take is to live the life of your dreams.. surround yourself only with people who are going to take you higher.. whatever the mind of man can conceive and believe, it can achieve.. whenever you see a successful person, you only see the public glories, never the private sacrifices to reach them.. the thing you fear most has no power. your fear of it is what has the power. facing the truth really will set you free.. luck is a matter of preparation meeting opportunity.. you can have it all. just not all at once..\"\n",
    "bad_1 = bad_1.split('..')\n",
    "bad_1 = [s.translate(str.maketrans('', '', string.punctuation)) for s in bad_1]\n",
    "bad_1 = [\" \".join(s.split()) for s in bad_1]\n",
    "bad_1 = [s.strip() for s in bad_1]\n",
    "bad_1"
   ]
  },
  {
   "cell_type": "code",
   "execution_count": 112,
   "metadata": {
    "scrolled": true
   },
   "outputs": [
    {
     "data": {
      "text/plain": [
       "['the thing you fear most has no power your fear of it is what has the power facing the truth really will set you free',\n",
       " 'i trust that everything happens for a reason even when we are not wise enough to see it',\n",
       " 'surround yourself with only people who are going to lift you higher',\n",
       " 'the biggest adventure you can ever take is to live the life of your dreams',\n",
       " 'think like a queen queen is not afraid to fail failure is another steppingstone to greatness',\n",
       " 'the biggest adventure you can ever take is to live the life of your dreams',\n",
       " 'luck is a matter of preparation meeting opportunity',\n",
       " 'self esteem comes from being able to define the world in your own terms and refusing to abide by the judgments of others',\n",
       " 'one of the hardest things in life to learn are which bridges to cross and which bridges to burn',\n",
       " 'failure is another steppingstone to greatness',\n",
       " 'the more you praise and celebrate your life the more there is in life to celebrate',\n",
       " 'i alone cannot change the world but i can cast a stone across the water to create many ripples',\n",
       " 'turn your wounds into wisdom',\n",
       " 'whatever the mind of man can conceive and believe it can achieve',\n",
       " 'the whole point of being alive is to evolve into the complete person you were intended to be',\n",
       " 'to escape fear you must go through it']"
      ]
     },
     "execution_count": 112,
     "metadata": {},
     "output_type": "execute_result"
    }
   ],
   "source": [
    "terrible_0 = \"the thing you fear most has no power. your fear of it is what has the power. facing the truth really will set you free.. i trust that everything happens for a reason, even when we are not wise enough to see it.. surround yourself with only people who are going to lift you higher.. the biggest adventure you can ever take is to live the life of your dreams.. think like a queen. queen is not afraid to fail. failure is another steppingstone to greatness.. the biggest adventure you can ever take is to live the life of your dreams.. luck is a matter of preparation meeting opportunity.. self - esteem comes from being able to define the world in your own terms and refusing to abide by the judgments of others.. one of the hardest things in life to learn are which bridges to cross and which bridges to burn.. failure is another steppingstone to greatness.. the more you praise and celebrate your life, the more there is in life to celebrate.. i alone cannot change the world, but i can cast a stone across the water to create many ripples.. turn your wounds into wisdom.. whatever the mind of man can conceive and believe, it can achieve.. the whole point of being alive is to evolve into the complete person you were intended to be.. to escape fear, you must go through it.\"\n",
    "terrible_0 = terrible_0.split('..')\n",
    "terrible_0 = [s.translate(str.maketrans('', '', string.punctuation)) for s in terrible_0]\n",
    "terrible_0 = [\" \".join(s.split()) for s in terrible_0]\n",
    "terrible_0 = [s.strip() for s in terrible_0]\n",
    "terrible_0"
   ]
  },
  {
   "cell_type": "code",
   "execution_count": 113,
   "metadata": {
    "scrolled": true
   },
   "outputs": [
    {
     "data": {
      "text/plain": [
       "['the biggest adventure you can ever take is to live the life of your dreams',\n",
       " 'think like a queen queen is not afraid to fail failure is another steppingstone to greatness',\n",
       " 'the biggest adventure you can ever take is to live the life of your dreams',\n",
       " 'failure is another steppingstone to greatness',\n",
       " 'i alone cannot change the world but i can cast a stone across the water to create many ripples',\n",
       " 'turn your wounds into wisdom',\n",
       " 'the whole point of being alive is to evolve into the complete person you were intended to be']"
      ]
     },
     "execution_count": 113,
     "metadata": {},
     "output_type": "execute_result"
    }
   ],
   "source": [
    "intersection(terrible_0, bad_0)"
   ]
  },
  {
   "cell_type": "code",
   "execution_count": 114,
   "metadata": {},
   "outputs": [
    {
     "data": {
      "text/plain": [
       "['the thing you fear most has no power your fear of it is what has the power facing the truth really will set you free',\n",
       " 'the biggest adventure you can ever take is to live the life of your dreams',\n",
       " 'the biggest adventure you can ever take is to live the life of your dreams',\n",
       " 'luck is a matter of preparation meeting opportunity',\n",
       " 'self esteem comes from being able to define the world in your own terms and refusing to abide by the judgments of others',\n",
       " 'failure is another steppingstone to greatness',\n",
       " 'whatever the mind of man can conceive and believe it can achieve',\n",
       " 'the whole point of being alive is to evolve into the complete person you were intended to be',\n",
       " 'to escape fear you must go through it']"
      ]
     },
     "execution_count": 114,
     "metadata": {},
     "output_type": "execute_result"
    }
   ],
   "source": [
    "intersection(terrible_0, bad_1)"
   ]
  },
  {
   "cell_type": "code",
   "execution_count": 115,
   "metadata": {},
   "outputs": [
    {
     "data": {
      "text/plain": [
       "['the thing you fear most has no power your fear of it is what has the power facing the truth really will set you free',\n",
       " 'surround yourself with only people who are going to lift you higher',\n",
       " 'the biggest adventure you can ever take is to live the life of your dreams',\n",
       " 'the biggest adventure you can ever take is to live the life of your dreams',\n",
       " 'luck is a matter of preparation meeting opportunity',\n",
       " 'one of the hardest things in life to learn are which bridges to cross and which bridges to burn',\n",
       " 'the more you praise and celebrate your life the more there is in life to celebrate',\n",
       " 'whatever the mind of man can conceive and believe it can achieve',\n",
       " 'the whole point of being alive is to evolve into the complete person you were intended to be']"
      ]
     },
     "execution_count": 115,
     "metadata": {},
     "output_type": "execute_result"
    }
   ],
   "source": [
    "intersection(terrible_0, decent_0)"
   ]
  },
  {
   "cell_type": "code",
   "execution_count": 116,
   "metadata": {},
   "outputs": [
    {
     "data": {
      "text/plain": [
       "['the biggest adventure you can ever take is to live the life of your dreams',\n",
       " 'luck is a matter of preparation meeting opportunity',\n",
       " 'the thing you fear most has no power your fear of it is what has the power facing the truth really will set you free',\n",
       " 'the biggest adventure you can ever take is to live the life of your dreams',\n",
       " 'real integrity is doing the right thing knowing that nobody is going to know whether you did it or not',\n",
       " 'you can have it all just not all at once',\n",
       " 'one of the hardest things in life to learn are which bridges to cross and which bridges to burn',\n",
       " 'the whole point of being alive is to evolve into the complete person you were intended to be']"
      ]
     },
     "execution_count": 116,
     "metadata": {},
     "output_type": "execute_result"
    }
   ],
   "source": [
    "intersection(decent_0, decent_1)"
   ]
  },
  {
   "cell_type": "code",
   "execution_count": 117,
   "metadata": {},
   "outputs": [
    {
     "data": {
      "text/plain": [
       "['the biggest adventure you can ever take is to live the life of your dreams',\n",
       " 'luck is a matter of preparation meeting opportunity',\n",
       " 'the biggest adventure you can ever take is to live the life of your dreams']"
      ]
     },
     "execution_count": 117,
     "metadata": {},
     "output_type": "execute_result"
    }
   ],
   "source": [
    "intersection(decent_0, decent_2)"
   ]
  },
  {
   "cell_type": "code",
   "execution_count": 118,
   "metadata": {
    "scrolled": true
   },
   "outputs": [
    {
     "data": {
      "text/plain": [
       "['i trust that everything happens for a reason even when we are not wise enough to see it',\n",
       " 'luck is a matter of preparation meeting opportunity',\n",
       " 'turn your wounds into wisdom',\n",
       " 'self esteem comes from being able to define the world in your own terms and refusing to abide by the judgments of others',\n",
       " 'surround yourself with great people',\n",
       " 'surround yourself only with people who are going to take you higher',\n",
       " 'the biggest adventure you can ever take is to live the life of your dreams']"
      ]
     },
     "execution_count": 118,
     "metadata": {},
     "output_type": "execute_result"
    }
   ],
   "source": [
    "intersection(decent_1, decent_2)"
   ]
  },
  {
   "cell_type": "code",
   "execution_count": 119,
   "metadata": {},
   "outputs": [
    {
     "data": {
      "text/plain": [
       "['',\n",
       " 'failure is another steppingstone to greatness',\n",
       " 'be thankful for what you have you will end up having more',\n",
       " 'the whole point of being alive is to evolve into the complete person you were intended to be',\n",
       " 'if you concentrate on what you dont have you will never ever have enough',\n",
       " 'surround yourself only with people who are going to take you higher',\n",
       " 'the thing you fear most has no power your fear of it is what has the power facing the truth really will set you free',\n",
       " 'the more you praise and celebrate your life the more there is in life to celebrate',\n",
       " 'i trust that everything happens for a reason even when we are not wise enough to see it',\n",
       " 'be thankful for what you have you will end up having more if you concentrate on what you do not have you will never ever have enough',\n",
       " 'I am timeless incomplete and imperfect No age No sense of time',\n",
       " 'whenever you see a successful person you only see the public glories never the private sacrifices to reach them',\n",
       " 'be thankful for what you have you will end up having more if you concentrate on what you dont have you will never ever have enough',\n",
       " 'to escape fear you must go through it whenever you see a successful person you only see the public glories never the private sacrifices to reach them',\n",
       " 'turn your wounds into wisdom',\n",
       " 'surround yourself with great people',\n",
       " 'i alone cannot change the world but i can cast a stone across the water to create many ripples',\n",
       " 'doing the best at this moment puts you in the best place for the next moment',\n",
       " 'real integrity is doing the right thing knowing that nobody is going to know whether you did it or not the more you praise and celebrate your life the more there is in life to celebrate',\n",
       " 'the biggest adventure you can ever take is to live the life of your dreams',\n",
       " 'my name is wabisabi',\n",
       " 'dont be afraid to ask for yourself doing the best at this moment puts you in the best place for the next moment',\n",
       " 'whatever the mind of man can conceive and believe it can achieve',\n",
       " 'real integrity is doing the right thing knowing that nobody is going to know whether you did it or not',\n",
       " 'luck is a matter of preparation meeting opportunity',\n",
       " 'think like a queen queen is not afraid to fail failure is another steppingstone to greatness',\n",
       " 'surround yourself with only people who are going to lift you higher',\n",
       " 'one of the hardest things in life to learn are which bridges to cross and which bridges to burn',\n",
       " 'you get in life what you have the courage to ask for',\n",
       " 'challenges are gifts that force us to search for a new center of gravity',\n",
       " 'you can have it all just not all at once',\n",
       " 'self esteem comes from being able to define the world in your own terms and refusing to abide by the judgments of others']"
      ]
     },
     "execution_count": 119,
     "metadata": {},
     "output_type": "execute_result"
    }
   ],
   "source": [
    "all_good = union(union(decent_0, decent_1), decent_2)\n",
    "all_good"
   ]
  },
  {
   "cell_type": "code",
   "execution_count": 120,
   "metadata": {
    "scrolled": false
   },
   "outputs": [
    {
     "data": {
      "text/plain": [
       "['',\n",
       " 'failure is another steppingstone to greatness',\n",
       " 'the whole point of being alive is to evolve into the complete person you were intended to be',\n",
       " 'surround yourself only with people who are going to take you higher',\n",
       " 'the thing you fear most has no power your fear of it is what has the power facing the truth really will set you free',\n",
       " 'to escape fear you must go through it',\n",
       " 'the more you praise and celebrate your life the more there is in life to celebrate',\n",
       " 'i trust that everything happens for a reason even when we are not wise enough to see it',\n",
       " 'I am timeless incomplete and imperfect No age No sense of time',\n",
       " 'whenever you see a successful person you only see the public glories never the private sacrifices to reach them',\n",
       " 'surround yourself with great people',\n",
       " 'turn your wounds into wisdom',\n",
       " 'i alone cannot change the world but i can cast a stone across the water to create many ripples',\n",
       " 'forgiveness is giving up the hope that the past could have been any different',\n",
       " 'the biggest adventure you can ever take is to live the life of your dreams',\n",
       " 'the key to realizing a dream is to focus not on success but on significance and then even the small steps and little victories along your path will take on greater meaning',\n",
       " 'from time to time you may stumble fall you will for sure you will have questions and you will have doubts about your path but i know this if you are willing to be guided by that still small voice that is the gps within yourself to find out what makes you come alive you will be more than okay you will be happy you will be successful and you will make a difference in the world',\n",
       " 'whatever the mind of man can conceive and believe it can achieve',\n",
       " 'real integrity is doing the right thing knowing that nobody is going to know whether you did it or not',\n",
       " 'luck is a matter of preparation meeting opportunity',\n",
       " 'dont be afraid to ask for yourself i trust that everything happens for a reason even when we are not wise enough to see it',\n",
       " 'think like a queen queen is not afraid to fail failure is another steppingstone to greatness',\n",
       " 'surround yourself with only people who are going to lift you higher',\n",
       " 'one of the hardest things in life to learn are which bridges to cross and which bridges to burn',\n",
       " 'you get in life what you have the courage to ask for',\n",
       " 'selfesteem comes from being able to define the world in your own terms and refusing to abide by the judgments of others',\n",
       " 'because when you inevitably stumble and find yourself stuck in a hole that is the story that will get you out what is your true calling what is your dharma what is your purpose',\n",
       " 'challenges are gifts that force us to search for a new center of gravity',\n",
       " 'you can have it all just not all at once',\n",
       " 'self esteem comes from being able to define the world in your own terms and refusing to abide by the judgments of others']"
      ]
     },
     "execution_count": 120,
     "metadata": {},
     "output_type": "execute_result"
    }
   ],
   "source": [
    "all_bad= union(union(bad_0, bad_1), terrible_0)\n",
    "all_bad"
   ]
  },
  {
   "cell_type": "code",
   "execution_count": 121,
   "metadata": {},
   "outputs": [
    {
     "data": {
      "text/plain": [
       "['my name is wabisabi',\n",
       " 'dont be afraid to ask for yourself doing the best at this moment puts you in the best place for the next moment',\n",
       " 'if you concentrate on what you dont have you will never ever have enough',\n",
       " 'be thankful for what you have you will end up having more if you concentrate on what you dont have you will never ever have enough',\n",
       " 'be thankful for what you have you will end up having more',\n",
       " 'to escape fear you must go through it whenever you see a successful person you only see the public glories never the private sacrifices to reach them',\n",
       " 'doing the best at this moment puts you in the best place for the next moment',\n",
       " 'real integrity is doing the right thing knowing that nobody is going to know whether you did it or not the more you praise and celebrate your life the more there is in life to celebrate',\n",
       " 'be thankful for what you have you will end up having more if you concentrate on what you do not have you will never ever have enough']"
      ]
     },
     "execution_count": 121,
     "metadata": {},
     "output_type": "execute_result"
    }
   ],
   "source": [
    "diff(all_good, all_bad)"
   ]
  },
  {
   "cell_type": "code",
   "execution_count": 95,
   "metadata": {},
   "outputs": [
    {
     "data": {
      "text/plain": [
       "['my name is wabisabi',\n",
       " 'dont be afraid to ask for yourself doing the best at this moment puts you in the best place for the next moment',\n",
       " 'if you concentrate on what you dont have you will never ever have enough',\n",
       " 'be thankful for what you have  you will end up having more',\n",
       " 'i trust that everything happens for a reason  even when we are not wise enough to see it',\n",
       " 'doing the best at this moment puts you in the best place for the next moment',\n",
       " 'real integrity is doing the right thing knowing that nobody is going to know whether you did it or not the more you praise and celebrate your life the more there is in life to celebrate',\n",
       " 'be thankful for what you have  you will end up having more if you concentrate on what you dont have you will never ever have enough']"
      ]
     },
     "execution_count": 95,
     "metadata": {},
     "output_type": "execute_result"
    }
   ],
   "source": [
    "['my name is wabisabi',\n",
    " 'dont be afraid to ask for yourself doing the best at this moment puts you in the best place for the next moment',\n",
    " 'if you concentrate on what you dont have you will never ever have enough',\n",
    " 'be thankful for what you have  you will end up having more',\n",
    " 'i trust that everything happens for a reason  even when we are not wise enough to see it',\n",
    " 'doing the best at this moment puts you in the best place for the next moment',\n",
    " 'real integrity is doing the right thing knowing that nobody is going to know whether you did it or not the more you praise and celebrate your life the more there is in life to celebrate',\n",
    " 'be thankful for what you have  you will end up having more if you concentrate on what you dont have you will never ever have enough']"
   ]
  },
  {
   "cell_type": "code",
   "execution_count": 123,
   "metadata": {},
   "outputs": [
    {
     "data": {
      "text/plain": [
       "['failure is another steppingstone to greatness',\n",
       " 'the biggest adventure you can ever take is to live the life of your dreams',\n",
       " 'the whole point of being alive is to evolve into the complete person you were intended to be']"
      ]
     },
     "execution_count": 123,
     "metadata": {},
     "output_type": "execute_result"
    }
   ],
   "source": [
    "intersect_bad = intersection(intersection(bad_0, bad_1), terrible_0)\n",
    "intersect_bad"
   ]
  },
  {
   "cell_type": "code",
   "execution_count": 125,
   "metadata": {
    "scrolled": false
   },
   "outputs": [
    {
     "data": {
      "text/plain": [
       "['',\n",
       " 'the key to realizing a dream is to focus not on success but on significance and then even the small steps and little victories along your path will take on greater meaning',\n",
       " 'from time to time you may stumble fall you will for sure you will have questions and you will have doubts about your path but i know this if you are willing to be guided by that still small voice that is the gps within yourself to find out what makes you come alive you will be more than okay you will be happy you will be successful and you will make a difference in the world',\n",
       " 'whatever the mind of man can conceive and believe it can achieve',\n",
       " 'real integrity is doing the right thing knowing that nobody is going to know whether you did it or not',\n",
       " 'surround yourself only with people who are going to take you higher',\n",
       " 'the thing you fear most has no power your fear of it is what has the power facing the truth really will set you free',\n",
       " 'to escape fear you must go through it',\n",
       " 'the more you praise and celebrate your life the more there is in life to celebrate',\n",
       " 'i trust that everything happens for a reason even when we are not wise enough to see it',\n",
       " 'luck is a matter of preparation meeting opportunity',\n",
       " 'dont be afraid to ask for yourself i trust that everything happens for a reason even when we are not wise enough to see it',\n",
       " 'self esteem comes from being able to define the world in your own terms and refusing to abide by the judgments of others',\n",
       " 'think like a queen queen is not afraid to fail failure is another steppingstone to greatness',\n",
       " 'surround yourself with only people who are going to lift you higher',\n",
       " 'I am timeless incomplete and imperfect No age No sense of time',\n",
       " 'whenever you see a successful person you only see the public glories never the private sacrifices to reach them',\n",
       " 'one of the hardest things in life to learn are which bridges to cross and which bridges to burn',\n",
       " 'you get in life what you have the courage to ask for',\n",
       " 'selfesteem comes from being able to define the world in your own terms and refusing to abide by the judgments of others',\n",
       " 'because when you inevitably stumble and find yourself stuck in a hole that is the story that will get you out what is your true calling what is your dharma what is your purpose',\n",
       " 'surround yourself with great people',\n",
       " 'turn your wounds into wisdom',\n",
       " 'challenges are gifts that force us to search for a new center of gravity',\n",
       " 'i alone cannot change the world but i can cast a stone across the water to create many ripples',\n",
       " 'you can have it all just not all at once',\n",
       " 'forgiveness is giving up the hope that the past could have been any different']"
      ]
     },
     "execution_count": 125,
     "metadata": {},
     "output_type": "execute_result"
    }
   ],
   "source": [
    "diff(all_bad, intersect_bad)"
   ]
  },
  {
   "cell_type": "code",
   "execution_count": 129,
   "metadata": {},
   "outputs": [],
   "source": [
    "res = union(diff(all_bad, intersect_bad) ,diff(all_good, all_bad))"
   ]
  },
  {
   "cell_type": "code",
   "execution_count": 133,
   "metadata": {},
   "outputs": [],
   "source": [
    "res = diff(res, intersection(bad_0, bad_1))"
   ]
  },
  {
   "cell_type": "code",
   "execution_count": 134,
   "metadata": {},
   "outputs": [],
   "source": [
    "res = diff(res, intersection(bad_0, terrible_0))"
   ]
  },
  {
   "cell_type": "code",
   "execution_count": 136,
   "metadata": {},
   "outputs": [],
   "source": [
    "res = diff(res, intersection(bad_1, terrible_0))"
   ]
  },
  {
   "cell_type": "code",
   "execution_count": 140,
   "metadata": {
    "scrolled": false
   },
   "outputs": [
    {
     "data": {
      "text/plain": [
       "25"
      ]
     },
     "execution_count": 140,
     "metadata": {},
     "output_type": "execute_result"
    }
   ],
   "source": [
    "len(res)"
   ]
  },
  {
   "cell_type": "code",
   "execution_count": 216,
   "metadata": {},
   "outputs": [
    {
     "data": {
      "text/plain": [
       "1625"
      ]
     },
     "execution_count": 216,
     "metadata": {},
     "output_type": "execute_result"
    }
   ],
   "source": [
    "len(''.join(res[1:16]))"
   ]
  },
  {
   "cell_type": "code",
   "execution_count": 143,
   "metadata": {},
   "outputs": [
    {
     "name": "stdout",
     "output_type": "stream",
     "text": [
      "Oprah Gail Winfrey (born  Orpah Gail Winfrey, January 29, 1954) is an American media executive, actress, talk show host, television producer and philanthropist. She is best known for her talk show The Oprah Winfrey Show, broadcast from Chicago, which was the highest-rated television program of its kind in history and ran in national syndication for 25 years from 1986 to 2011. Dubbed the \"Queen of All Media\", she was the richest African American of the 20th century and North America's first black multi-billionaire, and has been ranked the greatest black philanthropist in American history. She has also been sometimes ranked as the most influential woman in the world.Winfrey was born into poverty in rural Mississippi to a teenage single mother and later raised in inner-city Milwaukee. She has stated that she was molested during her childhood and early teens and became pregnant at 14; her son was born prematurely and died in infancy. Winfrey was then sent to live with the man she calls her father, Vernon Winfrey, a barber in Tennessee, and landed a job in radio while still in high school. By 19, she was a co-anchor for the local evening news. Winfrey's often emotional, extemporaneous delivery eventually led to her transfer to the daytime talk show arena, and after boosting a third-rated local Chicago talk show to first place, she launched her own production company and became internationally syndicated.\n",
      "Credited with creating a more intimate confessional form of media communication, Winfrey popularized and revolutionized the tabloid talk show genre pioneered by Phil Donahue. Through this medium, Winfrey broke 20th-century taboos and allowed LGBT people to enter the mainstream through television appearances. In 1994, she was inducted into the National Women's Hall of Fame.By the mid-1990s, Winfrey had reinvented her show with a focus on literature, self-improvement, mindfulness and spirituality. Though she was criticized for unleashing a confession culture, promoting controversial self-help ideas, and having an emotion-centered approach, she has also been praised for overcoming adversity to become a benefactor to others. Winfrey had also emerged as a political force in the 2008 presidential race, delivering about one million votes to Barack Obama in the razor close 2008 Democratic primary. In 2013, Winfrey was awarded the Presidential Medal of Freedom by President Obama and honorary doctorate degrees from Duke and Harvard. In 2008, she formed her own network, Oprah Winfrey Network (OWN).\n"
     ]
    }
   ],
   "source": [
    "import wikipedia\n",
    "print (wikipedia.summary(\"Oprah Winfrey\"))"
   ]
  },
  {
   "cell_type": "code",
   "execution_count": 148,
   "metadata": {},
   "outputs": [
    {
     "name": "stdout",
     "output_type": "stream",
     "text": [
      "Mohandas Karamchand Gandhi (; 2 October 1869 – 30 January 1948) was an Indian lawyer, anti-colonial nationalist, and political ethicist, who employed nonviolent resistance to lead the successful campaign for India's independence from British Rule, and in turn inspire movements for civil rights and freedom across the world. The honorific Mahātmā (Sanskrit: \"great-souled\", \"venerable\"), first applied to him in 1914 in South Africa, is now used throughout the world.\n",
      "Born and raised in a Hindu family in coastal Gujarat, western India, Gandhi was trained in law at the Inner Temple, London, and called to the bar at age 22 in June 1891.  After two uncertain years in India, where he was unable to start a successful law practice, he moved to South Africa in 1893 to represent an Indian merchant in a lawsuit. He went on to stay for 21 years. It was in South Africa that Gandhi raised a family, and first employed nonviolent resistance in a campaign for civil rights. In 1915, aged 45, he returned to India. He set about organising peasants, farmers, and urban labourers to protest against excessive land-tax and discrimination. Assuming leadership of the Indian National Congress in 1921, Gandhi led nationwide campaigns for easing poverty, expanding women's rights, building religious and ethnic amity, ending untouchability, and above all for achieving Swaraj or self-rule.The same year Gandhi adopted the Indian loincloth, or short dhoti and, in the winter, a shawl, both woven with yarn hand-spun on a traditional Indian spinning wheel, or charkha, as a mark of identification with India's rural poor. Thereafter, he lived modestly in a self-sufficient residential community, ate simple vegetarian food, and undertook long fasts as a means of self-purification and political protest. Bringing anti-colonial nationalism to the common Indians, Gandhi led them in challenging the British-imposed salt tax with the 400 km (250 mi) Dandi Salt March in 1930, and later in calling for the British to Quit India in 1942. He was imprisoned for many years, upon many occasions, in both South Africa and India. \n",
      "Gandhi's vision of an independent India based on religious pluralism was challenged in the early 1940s by a new Muslim nationalism which was demanding a separate Muslim homeland carved out of India. In August 1947, Britain granted independence, but the British Indian Empire was partitioned into two dominions, a Hindu-majority India and Muslim-majority Pakistan. As many displaced Hindus, Muslims, and Sikhs made their way to their new lands, religious violence broke out, especially in the Punjab and Bengal. Eschewing the official celebration of independence in Delhi, Gandhi visited the affected areas, attempting to provide solace. In the months following, he undertook several fasts unto death to stop religious violence. The last of these, undertaken on 12 January 1948 when he was 78, also had the indirect goal of pressuring India to pay out some cash assets owed to Pakistan. Some Indians thought Gandhi was too accommodating. Among them was Nathuram Godse, a Hindu nationalist, who assassinated Gandhi on 30 January 1948 by firing three bullets into his chest.Gandhi's birthday, 2 October, is commemorated in India as Gandhi Jayanti, a national holiday, and worldwide as the International Day of Nonviolence. Gandhi is commonly, though not formally considered the Father of the Nation in India. Gandhi is also called Bapu (Gujarati: endearment for father, papa).\n"
     ]
    }
   ],
   "source": [
    "print(wikipedia.summary(\"Ghandi\"))"
   ]
  },
  {
   "cell_type": "code",
   "execution_count": 151,
   "metadata": {},
   "outputs": [
    {
     "data": {
      "text/plain": [
       "'Oprah Gail Winfrey (born  Orpah Gail Winfrey, January 29, 1954) is an American media executive, actress, talk show host, television producer and philanthropist. She is best known for her talk show The Oprah Winfrey Show, broadcast from Chicago, which was the highest-rated television program of its kind in history and ran in national syndication for 25 years from 1986 to 2011. Dubbed the \"Queen of All Media\", she was the richest African American of the 20th century and North America\\'s first black multi-billionaire, and has been ranked the greatest black philanthropist in American history. She has also been sometimes ranked as the most influential woman in the world.Winfrey was born into poverty in rural Mississippi to a teenage single mother and later raised in inner-city Milwaukee. She has stated that she was molested during her childhood and early teens and became pregnant at 14; her son was born prematurely and died in infancy. Winfrey was then sent to live with the man she calls her father, Vernon Winfrey, a barber in Tennessee, and landed a job in radio while still in high school. By 19, she was a co-anchor for the local evening news. Winfrey\\'s often emotional, extemporaneous delivery eventually led to her transfer to the daytime talk show arena, and after boosting a third-rated local Chicago talk show to first place, she launched her own production company and became internationally syndicated.'"
      ]
     },
     "execution_count": 151,
     "metadata": {},
     "output_type": "execute_result"
    }
   ],
   "source": [
    "person_summary = wikipedia.summary(\"Oprah Winfrey\")\n",
    "person_summary[0:(person_summary).find('\\n')]"
   ]
  },
  {
   "cell_type": "code",
   "execution_count": 153,
   "metadata": {},
   "outputs": [],
   "source": [
    "import nltk"
   ]
  },
  {
   "cell_type": "code",
   "execution_count": 163,
   "metadata": {},
   "outputs": [],
   "source": [
    "forms = {\"is\" : \"am\", 'she' : 'I', 'he' : 'I', 'her' : 'my', 'him' : 'me', 'hers' : 'mine', 'your' : 'my'} # More?\n",
    "def translate(word):\n",
    "    if word.lower() in forms: \n",
    "        return forms[word.lower()]\n",
    "    return word\n",
    "\n",
    "person_summary = wikipedia.summary(\"Oprah Winfrey\")\n",
    "person_summary = person_summary[0:(person_summary).find('\\n')]\n",
    "result = ' '.join([translate(word) for word in nltk.wordpunct_tokenize(person_summary)])"
   ]
  },
  {
   "cell_type": "code",
   "execution_count": 164,
   "metadata": {
    "scrolled": true
   },
   "outputs": [
    {
     "name": "stdout",
     "output_type": "stream",
     "text": [
      "Oprah Gail Winfrey ( born Orpah Gail Winfrey , January 29 , 1954 ) am an American media executive , actress , talk show host , television producer and philanthropist . I am best known for my talk show The Oprah Winfrey Show , broadcast from Chicago , which was the highest - rated television program of its kind in history and ran in national syndication for 25 years from 1986 to 2011 . Dubbed the \" Queen of All Media \", I was the richest African American of the 20th century and North America ' s first black multi - billionaire , and has been ranked the greatest black philanthropist in American history . I has also been sometimes ranked as the most influential woman in the world . Winfrey was born into poverty in rural Mississippi to a teenage single mother and later raised in inner - city Milwaukee . I has stated that I was molested during my childhood and early teens and became pregnant at 14 ; my son was born prematurely and died in infancy . Winfrey was then sent to live with the man I calls my father , Vernon Winfrey , a barber in Tennessee , and landed a job in radio while still in high school . By 19 , I was a co - anchor for the local evening news . Winfrey ' s often emotional , extemporaneous delivery eventually led to my transfer to the daytime talk show arena , and after boosting a third - rated local Chicago talk show to first place , I launched my own production company and became internationally syndicated .\n"
     ]
    }
   ],
   "source": [
    "print(result)"
   ]
  },
  {
   "cell_type": "code",
   "execution_count": 176,
   "metadata": {},
   "outputs": [],
   "source": [
    "def translate(word):\n",
    "    \"\"\"\n",
    "    translates third person words into first person words\n",
    "    \"\"\"\n",
    "    forms = {\"is\" : \"am\", 'she' : 'I', 'he' : 'I', 'her' : 'my', 'him' : 'me', 'hers' : 'mine', 'your' : 'my', 'has' : 'have'}\n",
    "    if word.lower() in forms: \n",
    "        return forms[word.lower()]\n",
    "    return word\n",
    "\n",
    "person_summary = wikipedia.summary(\"Ghandi\")\n",
    "person_summary = person_summary[0:(person_summary).find('\\n')]\n",
    "result = ' '.join([translate(word) for word in nltk.wordpunct_tokenize(person_summary)])"
   ]
  },
  {
   "cell_type": "code",
   "execution_count": 177,
   "metadata": {},
   "outputs": [
    {
     "name": "stdout",
     "output_type": "stream",
     "text": [
      "Mohandas Karamchand Gandhi (; 2 October 1869 – 30 January 1948 ) was an Indian lawyer , anti - colonial nationalist , and political ethicist , who employed nonviolent resistance to lead the successful campaign for India ' s independence from British Rule , and in turn inspire movements for civil rights and freedom across the world . The honorific Mahātmā ( Sanskrit : \" great - souled \", \" venerable \"), first applied to me in 1914 in South Africa , am now used throughout the world .\n"
     ]
    }
   ],
   "source": [
    "print(result)"
   ]
  },
  {
   "cell_type": "markdown",
   "metadata": {},
   "source": [
    "# Limiting lists of words to the first N chars"
   ]
  },
  {
   "cell_type": "code",
   "execution_count": 223,
   "metadata": {},
   "outputs": [],
   "source": [
    "freud = (wikiquotes.get_quotes(\"Sigmund Freud\", \"english\"))"
   ]
  },
  {
   "cell_type": "code",
   "execution_count": 224,
   "metadata": {},
   "outputs": [],
   "source": [
    "freud = freud[0:5]"
   ]
  },
  {
   "cell_type": "code",
   "execution_count": 225,
   "metadata": {
    "scrolled": true
   },
   "outputs": [
    {
     "data": {
      "text/plain": [
       "['How bold one gets when one is sure of being loved.',\n",
       " \"Woe to you, my Princess, when I come... you shall see who is the stronger, a gentle girl who doesn't eat enough or a big wild man who has cocaine in his body.\",\n",
       " 'Princess, my little Princess,  Oh, how wonderful it will be! I am coming with money and staying a long time and bringing something beautiful for you and then go on to Paris and become a great scholar and then come back to Vienna with a huge, enormous halo, and then we will soon get married, and I will cure all the incurable nervous cases and through you I shall be healthy and I will go on kissing you till you are strong and gay and happy — and \"if they haven\\'t died, they are still alive today.\"',\n",
       " \"A man like me cannot live without a hobby-horse, a consuming passion — in Schiller's words a tyrant. I have found my tyrant, and in his service I know no limits. My tyrant is psychology. it has always been my distant, beckoning goal and now since I have hit upon the neuroses, it has come so much the nearer.\",\n",
       " 'I do not doubt that it would be easier for fate to take away your suffering than it would for me. But you will see for yourself that much has been gained if we succeed in turning your hysterical misery into common unhappiness.']"
      ]
     },
     "execution_count": 225,
     "metadata": {},
     "output_type": "execute_result"
    }
   ],
   "source": [
    "freud"
   ]
  },
  {
   "cell_type": "code",
   "execution_count": 247,
   "metadata": {
    "scrolled": true
   },
   "outputs": [
    {
     "data": {
      "text/plain": [
       "'How bold one gets when one is sure of being loved. Woe to you, my Princess, when I come... you shall see who is the stronger, a gentle girl who doesn\\'t eat enough or a big wild man who has cocaine in his body. Princess, my little Princess,  Oh, how wonderful it will be! I am coming with money and staying a long time and bringing something beautiful for you and then go on to Paris and become a great scholar and then come back to Vienna with a huge, enormous halo, and then we will soon get married, and I will cure all the incurable nervous cases and through you I shall be healthy and I will go on kissing you till you are strong and gay and happy — and \"if they haven\\'t died, they are still alive today.\" A man like me cannot live without a hobby-horse, a consuming passion — in Schiller\\'s words a tyrant. I have found my tyrant, and in his service I know no limits. My tyrant is psychology. it has always been my distant, beckoning goal and now since I have hit upon the neuroses, it has come so much the nearer. I do not doubt that it would be easier for fate to take away your suffering than it would for me. But you will see for yourself that much has been gained if we succeed in turning your hysterical misery into common unhappiness.'"
      ]
     },
     "execution_count": 247,
     "metadata": {},
     "output_type": "execute_result"
    }
   ],
   "source": [
    "concatenated = \" \".join(freud)\n",
    "concatenated"
   ]
  },
  {
   "cell_type": "code",
   "execution_count": 248,
   "metadata": {},
   "outputs": [],
   "source": [
    "concatenated = concatenated[0:1600]"
   ]
  },
  {
   "cell_type": "code",
   "execution_count": 249,
   "metadata": {
    "scrolled": true
   },
   "outputs": [
    {
     "data": {
      "text/plain": [
       "'How bold one gets when one is sure of being loved. Woe to you, my Princess, when I come... you shall see who is the stronger, a gentle girl who doesn\\'t eat enough or a big wild man who has cocaine in his body. Princess, my little Princess,  Oh, how wonderful it will be! I am coming with money and staying a long time and bringing something beautiful for you and then go on to Paris and become a great scholar and then come back to Vienna with a huge, enormous halo, and then we will soon get married, and I will cure all the incurable nervous cases and through you I shall be healthy and I will go on kissing you till you are strong and gay and happy — and \"if they haven\\'t died, they are still alive today.\" A man like me cannot live without a hobby-horse, a consuming passion — in Schiller\\'s words a tyrant. I have found my tyrant, and in his service I know no limits. My tyrant is psychology. it has always been my distant, beckoning goal and now since I have hit upon the neuroses, it has come so much the nearer. I do not doubt that it would be easier for fate to take away your suffering than it would for me. But you will see for yourself that much has been gained if we succeed in turning your hysterical misery into common unhappiness.'"
      ]
     },
     "execution_count": 249,
     "metadata": {},
     "output_type": "execute_result"
    }
   ],
   "source": [
    "concatenated"
   ]
  },
  {
   "cell_type": "code",
   "execution_count": 250,
   "metadata": {},
   "outputs": [
    {
     "name": "stdout",
     "output_type": "stream",
     "text": [
      "['How bold one gets when one is sure of being loved', ' Woe to you, my Princess, when I come', '', '', \" you shall see who is the stronger, a gentle girl who doesn't eat enough or a big wild man who has cocaine in his body\", ' Princess, my little Princess,  Oh, how wonderful it will be! I am coming with money and staying a long time and bringing something beautiful for you and then go on to Paris and become a great scholar and then come back to Vienna with a huge, enormous halo, and then we will soon get married, and I will cure all the incurable nervous cases and through you I shall be healthy and I will go on kissing you till you are strong and gay and happy — and \"if they haven\\'t died, they are still alive today', '\" A man like me cannot live without a hobby-horse, a consuming passion — in Schiller\\'s words a tyrant', ' I have found my tyrant, and in his service I know no limits', ' My tyrant is psychology', ' it has always been my distant, beckoning goal and now since I have hit upon the neuroses, it has come so much the nearer', ' I do not doubt that it would be easier for fate to take away your suffering than it would for me', ' But you will see for yourself that much has been gained if we succeed in turning your hysterical misery into common unhappiness', '']\n"
     ]
    },
    {
     "data": {
      "text/plain": [
       "['How bold one gets when one is sure of being loved',\n",
       " ' Woe to you, my Princess, when I come',\n",
       " \" you shall see who is the stronger, a gentle girl who doesn't eat enough or a big wild man who has cocaine in his body\",\n",
       " ' Princess, my little Princess,  Oh, how wonderful it will be! I am coming with money and staying a long time and bringing something beautiful for you and then go on to Paris and become a great scholar and then come back to Vienna with a huge, enormous halo, and then we will soon get married, and I will cure all the incurable nervous cases and through you I shall be healthy and I will go on kissing you till you are strong and gay and happy — and \"if they haven\\'t died, they are still alive today',\n",
       " '\" A man like me cannot live without a hobby-horse, a consuming passion — in Schiller\\'s words a tyrant',\n",
       " ' I have found my tyrant, and in his service I know no limits',\n",
       " ' My tyrant is psychology',\n",
       " ' it has always been my distant, beckoning goal and now since I have hit upon the neuroses, it has come so much the nearer',\n",
       " ' I do not doubt that it would be easier for fate to take away your suffering than it would for me',\n",
       " ' But you will see for yourself that much has been gained if we succeed in turning your hysterical misery into common unhappiness']"
      ]
     },
     "execution_count": 250,
     "metadata": {},
     "output_type": "execute_result"
    }
   ],
   "source": [
    "sentences = concatenated.split('.')\n",
    "print(sentences)\n",
    "sentences = [sentence for sentence in sentences if sentence !='']\n",
    "sentences"
   ]
  },
  {
   "cell_type": "code",
   "execution_count": 251,
   "metadata": {},
   "outputs": [
    {
     "data": {
      "text/plain": [
       "['How bold one gets when one is sure of being loved .',\n",
       " 'Woe to you, my Princess, when I come .',\n",
       " \"you shall see who is the stronger, a gentle girl who doesn't eat enough or a big wild man who has cocaine in his body .\",\n",
       " 'Princess, my little Princess,  Oh, how wonderful it will be! I am coming with money and staying a long time and bringing something beautiful for you and then go on to Paris and become a great scholar and then come back to Vienna with a huge, enormous halo, and then we will soon get married, and I will cure all the incurable nervous cases and through you I shall be healthy and I will go on kissing you till you are strong and gay and happy — and \"if they haven\\'t died, they are still alive today .',\n",
       " '\" A man like me cannot live without a hobby-horse, a consuming passion — in Schiller\\'s words a tyrant .',\n",
       " 'I have found my tyrant, and in his service I know no limits .',\n",
       " 'My tyrant is psychology .',\n",
       " 'it has always been my distant, beckoning goal and now since I have hit upon the neuroses, it has come so much the nearer .',\n",
       " 'I do not doubt that it would be easier for fate to take away your suffering than it would for me .',\n",
       " 'But you will see for yourself that much has been gained if we succeed in turning your hysterical misery into common unhappiness .']"
      ]
     },
     "execution_count": 251,
     "metadata": {},
     "output_type": "execute_result"
    }
   ],
   "source": [
    "sentences = [sentence+' .' for sentence in sentences]\n",
    "sentences = [sentence.strip() for sentence in sentences]\n",
    "sentences"
   ]
  },
  {
   "cell_type": "code",
   "execution_count": null,
   "metadata": {},
   "outputs": [],
   "source": []
  }
 ],
 "metadata": {
  "kernelspec": {
   "display_name": "Python 3",
   "language": "python",
   "name": "python3"
  },
  "language_info": {
   "codemirror_mode": {
    "name": "ipython",
    "version": 3
   },
   "file_extension": ".py",
   "mimetype": "text/x-python",
   "name": "python",
   "nbconvert_exporter": "python",
   "pygments_lexer": "ipython3",
   "version": "3.7.1"
  }
 },
 "nbformat": 4,
 "nbformat_minor": 2
}

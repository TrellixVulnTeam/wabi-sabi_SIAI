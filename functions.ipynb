{
 "cells": [
  {
   "cell_type": "code",
   "execution_count": 46,
   "metadata": {},
   "outputs": [],
   "source": [
    "import wikiquotes"
   ]
  },
  {
   "cell_type": "code",
   "execution_count": 47,
   "metadata": {},
   "outputs": [
    {
     "data": {
      "text/plain": [
       "['Mahatma Gandhi',\n",
       " 'Indira Gandhi',\n",
       " 'Rahul Gandhi',\n",
       " 'Arun Manilal Gandhi',\n",
       " 'Rajiv Gandhi',\n",
       " 'Gandhi (film)',\n",
       " 'Anand Gandhi',\n",
       " 'Virchand Gandhi',\n",
       " 'Maneka Gandhi',\n",
       " 'Body']"
      ]
     },
     "execution_count": 47,
     "metadata": {},
     "output_type": "execute_result"
    }
   ],
   "source": [
    "wikiquotes.search(\"gandi\", \"english\")"
   ]
  },
  {
   "cell_type": "code",
   "execution_count": 51,
   "metadata": {},
   "outputs": [
    {
     "data": {
      "text/plain": [
       "38"
      ]
     },
     "execution_count": 51,
     "metadata": {},
     "output_type": "execute_result"
    }
   ],
   "source": [
    "len(wikiquotes.get_quotes('Albus Dumbledore', \"english\"))"
   ]
  },
  {
   "cell_type": "code",
   "execution_count": 60,
   "metadata": {},
   "outputs": [
    {
     "data": {
      "text/plain": [
       "['Last words in Rick and Morty',\n",
       " 'Rick Sanchez – Justin Roiland',\n",
       " 'Morty Smith – Justin Roiland',\n",
       " 'Jerry Smith – Chris Parnell',\n",
       " 'Beth Smith (née Sanchez) – Sarah Chalke',\n",
       " 'Summer Smith – Spencer Grammer',\n",
       " 'Encyclopedic article on Rick and Morty at Wikipedia',\n",
       " 'Media related to Rick and Morty at Wikimedia Commons',\n",
       " 'Rick and Morty quotes at the Internet Movie Database',\n",
       " 'Official site']"
      ]
     },
     "execution_count": 60,
     "metadata": {},
     "output_type": "execute_result"
    }
   ],
   "source": [
    "(wikiquotes.get_quotes('Rick and Morty', \"english\"))"
   ]
  },
  {
   "cell_type": "code",
   "execution_count": 67,
   "metadata": {},
   "outputs": [
    {
     "data": {
      "text/plain": [
       "['Last words in Rick and Morty',\n",
       " 'Rick Sanchez – Justin Roiland',\n",
       " 'Morty Smith – Justin Roiland',\n",
       " 'Jerry Smith – Chris Parnell',\n",
       " 'Beth Smith (née Sanchez) – Sarah Chalke',\n",
       " 'Summer Smith – Spencer Grammer',\n",
       " 'Encyclopedic article on Rick and Morty at Wikipedia',\n",
       " 'Media related to Rick and Morty at Wikimedia Commons',\n",
       " 'Rick and Morty quotes at the Internet Movie Database',\n",
       " 'Official site']"
      ]
     },
     "execution_count": 67,
     "metadata": {},
     "output_type": "execute_result"
    }
   ],
   "source": [
    "wikiquotes.get_quotes(\"Rick and Morty quotes at the Internet Movie Database\", \"english\")"
   ]
  },
  {
   "cell_type": "code",
   "execution_count": 82,
   "metadata": {},
   "outputs": [
    {
     "data": {
      "text/plain": [
       "88"
      ]
     },
     "execution_count": 82,
     "metadata": {},
     "output_type": "execute_result"
    }
   ],
   "source": [
    "len(wikiquotes.get_quotes(\"Sigmund Freud\", \"english\"))"
   ]
  },
  {
   "cell_type": "markdown",
   "metadata": {},
   "source": [
    "# Spell correction"
   ]
  },
  {
   "cell_type": "code",
   "execution_count": 83,
   "metadata": {},
   "outputs": [
    {
     "name": "stdout",
     "output_type": "stream",
     "text": [
      "autocorrect.spell is deprecated, use autocorrect.Speller instead\n"
     ]
    },
    {
     "data": {
      "text/plain": [
       "'WabiSabi'"
      ]
     },
     "execution_count": 83,
     "metadata": {},
     "output_type": "execute_result"
    }
   ],
   "source": [
    "from autocorrect import spell\n",
    "spell('WabiSabi')"
   ]
  },
  {
   "cell_type": "markdown",
   "metadata": {},
   "source": [
    "# Testing string_transformer"
   ]
  },
  {
   "cell_type": "code",
   "execution_count": 146,
   "metadata": {},
   "outputs": [],
   "source": [
    "\n",
    "import re\n",
    "from autocorrect import spell\n",
    "\n",
    "\n",
    "def rmv_apostrophe(string):\n",
    "    # specific\n",
    "    phrase = re.sub(r\"won\\'t\", \"will not\", string)\n",
    "    phrase = re.sub(r\"can\\'t\", \"can not\", phrase)\n",
    "    phrase = re.sub(r\"\\'cause'\", \"because\", phrase)\n",
    "    phrase = re.sub(r\"let\\s\", \"let us\", phrase)\n",
    "    phrase = re.sub(r\"ma\\'am\", \"madam\", phrase)\n",
    "    phrase = re.sub(r\"y\\'all'\", \"you all\", phrase)\n",
    "    phrase = re.sub(r\"o\\'clock\", \"of the clock\", phrase)    \n",
    "\n",
    "    # general\n",
    "    phrase = re.sub(r\"n\\'t\", \" not\", phrase)\n",
    "    phrase = re.sub(r\"\\'re\", \" are\", phrase)\n",
    "    phrase = re.sub(r\"\\'s\", \" is\", phrase)\n",
    "    phrase = re.sub(r\"\\'d\", \" would\", phrase)\n",
    "    phrase = re.sub(r\"\\'ll\", \" will\", phrase)\n",
    "    phrase = re.sub(r\"\\'t\", \" not\", phrase)\n",
    "    phrase = re.sub(r\"\\'ve\", \" have\", phrase)\n",
    "    phrase = re.sub(r\"\\'m\", \" am\", phrase)\n",
    "    \n",
    "    # special apostrophes\n",
    "    phrase = re.sub(r\"\\'\", \" \", phrase)\n",
    "    \n",
    "    return phrase\n",
    "\n",
    "\n",
    "def string_transformer(string, tokenizer):\n",
    "    # lowercase\n",
    "    # (apostrophes)\n",
    "    # spaces before periods\n",
    "    phrase = string.lower()\n",
    "    \n",
    "    phrase = rmv_apostrophe(phrase)\n",
    "    \n",
    "    sentence_list = [sentence.strip() for sentence in phrase.strip().split('.')]\n",
    "    sentence_list = [sentence for sentence in sentence_list if sentence !='']\n",
    "    sentence_list = [sentence+' .' for sentence in sentence_list]\n",
    "    \n",
    "    #tokenized = [tokenizer.encode(sentence) for sentence in sentence_list]\n",
    "    \n",
    "    #return [item for sublist in tokenized for item in sublist]\n",
    "    \n",
    "    return sentence_list"
   ]
  },
  {
   "cell_type": "code",
   "execution_count": 147,
   "metadata": {},
   "outputs": [
    {
     "name": "stdout",
     "output_type": "stream",
     "text": [
      "['do not be afraid to ask for yourself .']\n",
      "['to escape fear , you must go through it .']\n",
      "['failure is another steppingstone to greatness .']\n",
      "['turn your wounds into wisdom .']\n",
      "['one of the hardest things in life to learn are which bridges to cross and which bridges to burn .']\n",
      "['challenges are gifts that force us to search for a new center of gravity .']\n",
      "['the thing you fear most has no power .', 'your fear of it is what has the power .', 'facing the truth really will set you free .']\n",
      "['surround yourself only with people who are going to take you higher .']\n",
      "['you get in life what you have the courage to ask for .']\n",
      "['the key to realizing a dream is to focus not on success but on significance , and then even the small steps and little victories along your path will take on greater meaning .']\n",
      "['the biggest adventure you can ever take is to live the life of your dreams .']\n",
      "['self-esteem comes from being able to define the world in your own terms and refusing to abide by the judgments of others .']\n",
      "['forgiveness is giving up the hope that the past could have been any different .']\n",
      "['luck is a matter of preparation meeting opportunity .']\n",
      "['the whole point of being alive is to evolve into the complete person you were intended to be .']\n",
      "['wisdom equals knowledge plus courage .', 'you have to not only know what to do and when to do it , but you have to also be brave enough to follow through .']\n",
      "['surround yourself with great people .']\n",
      "['i alone cannot change the world , but i can cast a stone across the water to create many ripples .']\n",
      "['whatever the mind of man can conceive and believe, it can achieve .']\n"
     ]
    }
   ],
   "source": [
    "for s in ['do not be afraid to ask for yourself', \n",
    "        'to escape fear , you must go through it', \n",
    "        # 'I am timeless, incomplete and imperfect. No age. No sense of time.',\n",
    "        ' failure is another steppingstone to greatness . ',# 'think like a queen .  queen is not afraid to fail . failure is another steppingstone to greatness . ',    \n",
    "        # 'be thankful for what you have ; you will end up having more . if you concentrate on what you do not have, you will never, ever have enough .', \n",
    "        # 'surround yourself with only people who are going to lift you higher .', \n",
    "        # 'the biggest adventure you can ever take is to live the life of your dreams  .',\n",
    "        # 'doing the best at this moment puts you in the best place for the next moment .', \n",
    "        # 'real integrity is doing the right thing , knowing that nobody is going to know whether you did it or not .', \n",
    "        # 'the more you praise and celebrate your life , the more there is in life to celebrate .', \n",
    "        # 'passion is energy . feel the power that comes from focusing on what excites you .', \n",
    "        # 'lots of people want to ride with you in the limo , but what you want is someone who will take the bus with you when the limo breaks down .',  \n",
    "        'turn your wounds into wisdom . ', \n",
    "        # 'you can have it all . just not all at once . ', \n",
    "        'one of the hardest things in life to learn are which bridges to cross and which bridges to burn . ' ,  \n",
    "        'challenges are gifts that force us to search for a new center of gravity .',\n",
    "        'the thing you fear most has no power . your fear of it is what has the power . facing the truth really will set you free .', \n",
    "        'surround yourself only with people who are going to take you higher .', \n",
    "        'you get in life what you have the courage to ask for .', \n",
    "        # 'i trust that everything happens for a reason , even when we are not wise enough to see it .', \n",
    "        # 'everybody has a calling . and your real job in life is to figure out as soon as possible what that is , who you were meant to be , and to begin to honor that in the best way possible for yourself .', \n",
    "        'the key to realizing a dream is to focus not on success but on significance , and then even the small steps and little victories along your path will take on greater meaning .',\n",
    "        'the biggest adventure you can ever take is to live the life of your dreams .', 'self-esteem comes from being able to define the world in your own terms and refusing to abide by the judgments of others .', 'forgiveness is giving up the hope that the past could have been any different .', 'luck is a matter of preparation meeting opportunity .', 'the whole point of being alive is to evolve into the complete person you were intended to be .', 'wisdom equals knowledge plus courage . you have to not only know what to do and when to do it , but you have to also be brave enough to follow through .', 'surround yourself with great people .', 'i alone cannot change the world , but i can cast a stone across the water to create many ripples .', \n",
    "        'whatever the mind of man can conceive and believe, it can achieve .', ]:\n",
    "    print(string_transformer(s, _)  )\n",
    "        #  'whenever you see a successful person, you only see the public glories,  never the private sacrifices to reach them .', 'at some point you are bound to stumble because if you are constantly doing what we do , raising the bar . if you are constantly pushing yourself higher, higher the law of averages not to mention the myth of icarus predicts that you will at some point fall . And when you do i want you to know this , remember this : there is no such thing as failure . failure is just life trying to move us in another direction . now when you are down there in the hole , it looks like failure .', 'and when you are down in the hole when that moment comes , it is really okay to feel bad for a little while . give yourself time to mourn what you think you may have lost but then here is the key , learn from every mistake because every experience , encounter , and particularly your mistakes are there to teach you and force you into being more who you are . and then figure out what is the next right move .', 'because when you inevitably stumble and find yourself stuck in a hole that is the story that will get you out : what is your true calling ? what is your dharma ? what is your purpose ?', 'i know that you all might have a little anxiety now but no matter what challenges or setbacks or disappointments you may encounter along the way , you will find true success and happiness if you have only one goal , there really is only one , and that is this : to fulfill the highest most truthful expression of yourself as a human being . you want to max out your humanity by using your energy to lift yourself up , your family and the people around you .', 'from time to time you may stumble , fall , you will for sure , you will have questions and you will have doubts about your path . but i know this , if you are willing to be guided by , that still small voice that is the gps within yourself , to find out what makes you come alive , you will be more than okay . you will be happy , you will be successful , and you will make a difference in the world .']:\n",
    "        "
   ]
  }
 ],
 "metadata": {
  "kernelspec": {
   "display_name": "Python 3",
   "language": "python",
   "name": "python3"
  },
  "language_info": {
   "codemirror_mode": {
    "name": "ipython",
    "version": 3
   },
   "file_extension": ".py",
   "mimetype": "text/x-python",
   "name": "python",
   "nbconvert_exporter": "python",
   "pygments_lexer": "ipython3",
   "version": "3.7.1"
  }
 },
 "nbformat": 4,
 "nbformat_minor": 2
}

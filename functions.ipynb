{
 "cells": [
  {
   "cell_type": "code",
   "execution_count": 46,
   "metadata": {},
   "outputs": [],
   "source": [
    "import wikiquotes"
   ]
  },
  {
   "cell_type": "code",
   "execution_count": 47,
   "metadata": {},
   "outputs": [
    {
     "data": {
      "text/plain": [
       "['Mahatma Gandhi',\n",
       " 'Indira Gandhi',\n",
       " 'Rahul Gandhi',\n",
       " 'Arun Manilal Gandhi',\n",
       " 'Rajiv Gandhi',\n",
       " 'Gandhi (film)',\n",
       " 'Anand Gandhi',\n",
       " 'Virchand Gandhi',\n",
       " 'Maneka Gandhi',\n",
       " 'Body']"
      ]
     },
     "execution_count": 47,
     "metadata": {},
     "output_type": "execute_result"
    }
   ],
   "source": [
    "wikiquotes.search(\"gandi\", \"english\")"
   ]
  },
  {
   "cell_type": "code",
   "execution_count": 51,
   "metadata": {},
   "outputs": [
    {
     "data": {
      "text/plain": [
       "38"
      ]
     },
     "execution_count": 51,
     "metadata": {},
     "output_type": "execute_result"
    }
   ],
   "source": [
    "len(wikiquotes.get_quotes('Albus Dumbledore', \"english\"))"
   ]
  },
  {
   "cell_type": "code",
   "execution_count": 60,
   "metadata": {},
   "outputs": [
    {
     "data": {
      "text/plain": [
       "['Last words in Rick and Morty',\n",
       " 'Rick Sanchez – Justin Roiland',\n",
       " 'Morty Smith – Justin Roiland',\n",
       " 'Jerry Smith – Chris Parnell',\n",
       " 'Beth Smith (née Sanchez) – Sarah Chalke',\n",
       " 'Summer Smith – Spencer Grammer',\n",
       " 'Encyclopedic article on Rick and Morty at Wikipedia',\n",
       " 'Media related to Rick and Morty at Wikimedia Commons',\n",
       " 'Rick and Morty quotes at the Internet Movie Database',\n",
       " 'Official site']"
      ]
     },
     "execution_count": 60,
     "metadata": {},
     "output_type": "execute_result"
    }
   ],
   "source": [
    "(wikiquotes.get_quotes('Rick and Morty', \"english\"))"
   ]
  },
  {
   "cell_type": "code",
   "execution_count": 67,
   "metadata": {},
   "outputs": [
    {
     "data": {
      "text/plain": [
       "['Last words in Rick and Morty',\n",
       " 'Rick Sanchez – Justin Roiland',\n",
       " 'Morty Smith – Justin Roiland',\n",
       " 'Jerry Smith – Chris Parnell',\n",
       " 'Beth Smith (née Sanchez) – Sarah Chalke',\n",
       " 'Summer Smith – Spencer Grammer',\n",
       " 'Encyclopedic article on Rick and Morty at Wikipedia',\n",
       " 'Media related to Rick and Morty at Wikimedia Commons',\n",
       " 'Rick and Morty quotes at the Internet Movie Database',\n",
       " 'Official site']"
      ]
     },
     "execution_count": 67,
     "metadata": {},
     "output_type": "execute_result"
    }
   ],
   "source": [
    "wikiquotes.get_quotes(\"Rick and Morty quotes at the Internet Movie Database\", \"english\")"
   ]
  },
  {
   "cell_type": "code",
   "execution_count": 82,
   "metadata": {},
   "outputs": [
    {
     "data": {
      "text/plain": [
       "88"
      ]
     },
     "execution_count": 82,
     "metadata": {},
     "output_type": "execute_result"
    }
   ],
   "source": [
    "len(wikiquotes.get_quotes(\"Sigmund Freud\", \"english\"))"
   ]
  },
  {
   "cell_type": "markdown",
   "metadata": {},
   "source": [
    "# Spell correction"
   ]
  },
  {
   "cell_type": "code",
   "execution_count": 83,
   "metadata": {},
   "outputs": [
    {
     "name": "stdout",
     "output_type": "stream",
     "text": [
      "autocorrect.spell is deprecated, use autocorrect.Speller instead\n"
     ]
    },
    {
     "data": {
      "text/plain": [
       "'WabiSabi'"
      ]
     },
     "execution_count": 83,
     "metadata": {},
     "output_type": "execute_result"
    }
   ],
   "source": [
    "from autocorrect import spell\n",
    "spell('WabiSabi')"
   ]
  },
  {
   "cell_type": "markdown",
   "metadata": {},
   "source": [
    "# Testing string_transformer"
   ]
  },
  {
   "cell_type": "code",
   "execution_count": 146,
   "metadata": {},
   "outputs": [],
   "source": [
    "\n",
    "import re\n",
    "from autocorrect import spell\n",
    "\n",
    "\n",
    "def rmv_apostrophe(string):\n",
    "    # specific\n",
    "    phrase = re.sub(r\"won\\'t\", \"will not\", string)\n",
    "    phrase = re.sub(r\"can\\'t\", \"can not\", phrase)\n",
    "    phrase = re.sub(r\"\\'cause'\", \"because\", phrase)\n",
    "    phrase = re.sub(r\"let\\s\", \"let us\", phrase)\n",
    "    phrase = re.sub(r\"ma\\'am\", \"madam\", phrase)\n",
    "    phrase = re.sub(r\"y\\'all'\", \"you all\", phrase)\n",
    "    phrase = re.sub(r\"o\\'clock\", \"of the clock\", phrase)    \n",
    "\n",
    "    # general\n",
    "    phrase = re.sub(r\"n\\'t\", \" not\", phrase)\n",
    "    phrase = re.sub(r\"\\'re\", \" are\", phrase)\n",
    "    phrase = re.sub(r\"\\'s\", \" is\", phrase)\n",
    "    phrase = re.sub(r\"\\'d\", \" would\", phrase)\n",
    "    phrase = re.sub(r\"\\'ll\", \" will\", phrase)\n",
    "    phrase = re.sub(r\"\\'t\", \" not\", phrase)\n",
    "    phrase = re.sub(r\"\\'ve\", \" have\", phrase)\n",
    "    phrase = re.sub(r\"\\'m\", \" am\", phrase)\n",
    "    \n",
    "    # special apostrophes\n",
    "    phrase = re.sub(r\"\\'\", \" \", phrase)\n",
    "    \n",
    "    return phrase\n",
    "\n",
    "\n",
    "def string_transformer(string, tokenizer):\n",
    "    # lowercase\n",
    "    # (apostrophes)\n",
    "    # spaces before periods\n",
    "    phrase = string.lower()\n",
    "    \n",
    "    phrase = rmv_apostrophe(phrase)\n",
    "    \n",
    "    sentence_list = [sentence.strip() for sentence in phrase.strip().split('.')]\n",
    "    sentence_list = [sentence for sentence in sentence_list if sentence !='']\n",
    "    sentence_list = [sentence+' .' for sentence in sentence_list]\n",
    "    \n",
    "    #tokenized = [tokenizer.encode(sentence) for sentence in sentence_list]\n",
    "    \n",
    "    #return [item for sublist in tokenized for item in sublist]\n",
    "    \n",
    "    return sentence_list"
   ]
  },
  {
   "cell_type": "code",
   "execution_count": 16,
   "metadata": {},
   "outputs": [],
   "source": [
    "def intersection(lst1, lst2): \n",
    "    lst3 = [value for value in lst1 if value in lst2] \n",
    "    return lst3"
   ]
  },
  {
   "cell_type": "code",
   "execution_count": 47,
   "metadata": {},
   "outputs": [],
   "source": [
    "def union(lst1, lst2): \n",
    "    final_list = list(set(lst1) | set(lst2)) \n",
    "    return final_list "
   ]
  },
  {
   "cell_type": "code",
   "execution_count": 48,
   "metadata": {},
   "outputs": [],
   "source": [
    "def diff(li1, li2): \n",
    "    return (list(set(li1) - set(li2))) "
   ]
  },
  {
   "cell_type": "code",
   "execution_count": 20,
   "metadata": {},
   "outputs": [],
   "source": [
    "import string"
   ]
  },
  {
   "cell_type": "code",
   "execution_count": 65,
   "metadata": {},
   "outputs": [
    {
     "data": {
      "text/plain": [
       "['challenges are gifts that force us to search for a new center of gravity',\n",
       " 'the biggest adventure you can ever take is to live the life of your dreams',\n",
       " 'be thankful for what you have you will end up having more if you concentrate on what you dont have you will never ever have enough',\n",
       " 'surround yourself with only people who are going to lift you higher',\n",
       " 'whenever you see a successful person you only see the public glories never the private sacrifices to reach them',\n",
       " 'you get in life what you have the courage to ask for',\n",
       " 'luck is a matter of preparation meeting opportunity',\n",
       " 'the thing you fear most has no power your fear of it is what has the power facing the truth really will set you free',\n",
       " 'the biggest adventure you can ever take is to live the life of your dreams',\n",
       " 'real integrity is doing the right thing knowing that nobody is going to know whether you did it or not',\n",
       " 'you can have it all just not all at once',\n",
       " 'doing the best at this moment puts you in the best place for the next moment',\n",
       " 'one of the hardest things in life to learn are which bridges to cross and which bridges to burn',\n",
       " 'the whole point of being alive is to evolve into the complete person you were intended to be',\n",
       " 'the more you praise and celebrate your life the more there is in life to celebrate',\n",
       " 'whatever the mind of man can conceive and believe it can achieve',\n",
       " '']"
      ]
     },
     "execution_count": 65,
     "metadata": {},
     "output_type": "execute_result"
    }
   ],
   "source": [
    "decent_0 = \"challenges are gifts that force us to search for a new center of gravity.. the biggest adventure you can ever take is to live the life of your dreams.. be thankful for what you have ; you will end up having more. if you concentrate on what you don't have, you will never, ever have enough.. surround yourself with only people who are going to lift you higher.. whenever you see a successful person, you only see the public glories, never the private sacrifices to reach them.. you get in life what you have the courage to ask for.. luck is a matter of preparation meeting opportunity.. the thing you fear most has no power. your fear of it is what has the power. facing the truth really will set you free.. the biggest adventure you can ever take is to live the life of your dreams.. real integrity is doing the right thing, knowing that nobody is going to know whether you did it or not.. you can have it all. just not all at once.. doing the best at this moment puts you in the best place for the next moment.. one of the hardest things in life to learn are which bridges to cross and which bridges to burn.. the whole point of being alive is to evolve into the complete person you were intended to be.. the more you praise and celebrate your life, the more there is in life to celebrate.. whatever the mind of man can conceive and believe, it can achieve..\"\n",
    "decent_0 = decent_0.split('..')\n",
    "decent_0 = [s.translate(str.maketrans('', '', string.punctuation)) for s in decent_0]\n",
    "decent_0 = [\" \".join(s.split()) for s in decent_0]\n",
    "decent_0 = [s.strip() for s in decent_0]\n",
    "decent_0"
   ]
  },
  {
   "cell_type": "code",
   "execution_count": 81,
   "metadata": {},
   "outputs": [
    {
     "data": {
      "text/plain": [
       "['one of the hardest things in life to learn are which bridges to cross and which bridges to burn',\n",
       " 'i trust that everything happens for a reason even when we are not wise enough to see it',\n",
       " 'be thankful for what you have you will end up having more if you concentrate on what you do not have you will never ever have enough',\n",
       " 'luck is a matter of preparation meeting opportunity',\n",
       " 'turn your wounds into wisdom',\n",
       " 'self esteem comes from being able to define the world in your own terms and refusing to abide by the judgments of others',\n",
       " 'you can have it all just not all at once',\n",
       " 'surround yourself with great people',\n",
       " 'the whole point of being alive is to evolve into the complete person you were intended to be',\n",
       " 'the thing you fear most has no power your fear of it is what has the power facing the truth really will set you free',\n",
       " 'surround yourself only with people who are going to take you higher',\n",
       " 'real integrity is doing the right thing knowing that nobody is going to know whether you did it or not',\n",
       " 'failure is another steppingstone to greatness',\n",
       " 'I am timeless incomplete and imperfect No age No sense of time',\n",
       " 'think like a queen queen is not afraid to fail failure is another steppingstone to greatness',\n",
       " 'the biggest adventure you can ever take is to live the life of your dreams']"
      ]
     },
     "execution_count": 81,
     "metadata": {},
     "output_type": "execute_result"
    }
   ],
   "source": [
    "decent_1  = ['one of the hardest things in life to learn are which bridges to cross and which bridges to burn . ', 'i trust that everything happens for a reason , even when we are not wise enough to see it .', 'be thankful for what you have ; you will end up having more . if you concentrate on what you do not have, you will never, ever have enough .', 'luck is a matter of preparation meeting opportunity .', 'turn your wounds into wisdom . ', 'self esteem comes from being able to define the world in your own terms and refusing to abide by the judgments of others .', 'you can have it all . just not all at once . ', 'surround yourself with great people .', 'the whole point of being alive is to evolve into the complete person you were intended to be .', 'the thing you fear most has no power . your fear of it is what has the power . facing the truth really will set you free .', 'surround yourself only with people who are going to take you higher .', 'real integrity is doing the right thing , knowing that nobody is going to know whether you did it or not .', ' failure is another steppingstone to greatness . ', 'I am timeless, incomplete and imperfect. No age. No sense of time.', 'think like a queen .  queen is not afraid to fail . failure is another steppingstone to greatness . ', 'the biggest adventure you can ever take is to live the life of your dreams  .']\n",
    "decent_1 = [s.translate(str.maketrans('', '', string.punctuation)) for s in decent_1]\n",
    "decent_1 = [\" \".join(s.split()) for s in decent_1]\n",
    "decent_1 = [s.strip() for s in decent_1]\n",
    "decent_1"
   ]
  },
  {
   "cell_type": "code",
   "execution_count": 109,
   "metadata": {},
   "outputs": [
    {
     "data": {
      "text/plain": [
       "['my name is wabisabi',\n",
       " 'self esteem comes from being able to define the world in your own terms and refusing to abide by the judgments of others',\n",
       " 'luck is a matter of preparation meeting opportunity',\n",
       " 'real integrity is doing the right thing knowing that nobody is going to know whether you did it or not the more you praise and celebrate your life the more there is in life to celebrate',\n",
       " 'be thankful for what you have you will end up having more',\n",
       " 'if you concentrate on what you dont have you will never ever have enough',\n",
       " 'i trust that everything happens for a reason even when we are not wise enough to see it',\n",
       " 'the biggest adventure you can ever take is to live the life of your dreams',\n",
       " 'to escape fear you must go through it whenever you see a successful person you only see the public glories never the private sacrifices to reach them',\n",
       " 'i alone cannot change the world but i can cast a stone across the water to create many ripples',\n",
       " 'the biggest adventure you can ever take is to live the life of your dreams',\n",
       " 'dont be afraid to ask for yourself doing the best at this moment puts you in the best place for the next moment',\n",
       " 'surround yourself with great people',\n",
       " 'surround yourself only with people who are going to take you higher',\n",
       " 'turn your wounds into wisdom']"
      ]
     },
     "execution_count": 109,
     "metadata": {},
     "output_type": "execute_result"
    }
   ],
   "source": [
    "decent_2 = ['my name is wabisabi. ', 'self - esteem comes from being able to define the world in your own terms and refusing to abide by the judgments of others..',' luck is a matter of preparation meeting opportunity.. ', 'real integrity is doing the right thing, knowing that nobody is going to know whether you did it or not.. the more you praise and celebrate your life, the more there is in life to celebrate.. ', 'be thankful for what you have ; you will end up having more. ', 'if you concentrate on what you don\\'t have, you will never, ever have enough.. ', 'i trust that everything happens for a reason, even when we are not wise enough to see it.. ', 'the biggest adventure you can ever take is to live the life of your dreams.. ', 'to escape fear, you must go through it. whenever you see a successful person, you only see the public glories, never the private sacrifices to reach them.. ', 'i alone cannot change the world, but i can cast a stone across the water to create many ripples.. ', 'the biggest adventure you can ever take is to live the life of your dreams.. ', 'don\\'t be afraid to ask for yourself. doing the best at this moment puts you in the best place for the next moment..', 'surround yourself with great people.. ', 'surround yourself only with people who are going to take you higher.. ', 'turn your wounds into wisdom..', ]\n",
    "decent_2 = [s.translate(str.maketrans('', '', string.punctuation)) for s in decent_2]\n",
    "decent_2 = [\" \".join(s.split()) for s in decent_2]\n",
    "decent_2 = [s.strip() for s in decent_2]\n",
    "decent_2"
   ]
  },
  {
   "cell_type": "code",
   "execution_count": 110,
   "metadata": {},
   "outputs": [
    {
     "data": {
      "text/plain": [
       "['surround yourself only with people who are going to take you higher',\n",
       " 'surround yourself with great people',\n",
       " 'failure is another steppingstone to greatness',\n",
       " 'selfesteem comes from being able to define the world in your own terms and refusing to abide by the judgments of others',\n",
       " 'the biggest adventure you can ever take is to live the life of your dreams',\n",
       " 'i alone cannot change the world but i can cast a stone across the water to create many ripples',\n",
       " 'whenever you see a successful person you only see the public glories never the private sacrifices to reach them',\n",
       " 'think like a queen queen is not afraid to fail failure is another steppingstone to greatness',\n",
       " 'from time to time you may stumble fall you will for sure you will have questions and you will have doubts about your path but i know this if you are willing to be guided by that still small voice that is the gps within yourself to find out what makes you come alive you will be more than okay you will be happy you will be successful and you will make a difference in the world',\n",
       " 'the whole point of being alive is to evolve into the complete person you were intended to be',\n",
       " 'because when you inevitably stumble and find yourself stuck in a hole that is the story that will get you out what is your true calling what is your dharma what is your purpose',\n",
       " 'real integrity is doing the right thing knowing that nobody is going to know whether you did it or not',\n",
       " 'the key to realizing a dream is to focus not on success but on significance and then even the small steps and little victories along your path will take on greater meaning',\n",
       " 'I am timeless incomplete and imperfect No age No sense of time',\n",
       " 'you get in life what you have the courage to ask for',\n",
       " 'turn your wounds into wisdom']"
      ]
     },
     "execution_count": 110,
     "metadata": {},
     "output_type": "execute_result"
    }
   ],
   "source": [
    "bad_0 = ['surround yourself only with people who are going to take you higher .', 'surround yourself with great people .', ' failure is another steppingstone to greatness . ', 'self-esteem comes from being able to define the world in your own terms and refusing to abide by the judgments of others .', 'the biggest adventure you can ever take is to live the life of your dreams  .', 'i alone cannot change the world , but i can cast a stone across the water to create many ripples .', 'whenever you see a successful person, you only see the public glories,  never the private sacrifices to reach them .', 'think like a queen .  queen is not afraid to fail . failure is another steppingstone to greatness . ', 'from time to time you may stumble , fall , you will for sure , you will have questions and you will have doubts about your path . but i know this , if you are willing to be guided by , that still small voice that is the gps within yourself , to find out what makes you come alive , you will be more than okay . you will be happy , you will be successful , and you will make a difference in the world .', 'the whole point of being alive is to evolve into the complete person you were intended to be .', 'because when you inevitably stumble and find yourself stuck in a hole that is the story that will get you out : what is your true calling ? what is your dharma ? what is your purpose ?', 'real integrity is doing the right thing , knowing that nobody is going to know whether you did it or not .', 'the key to realizing a dream is to focus not on success but on significance , and then even the small steps and little victories along your path will take on greater meaning .', 'I am timeless, incomplete and imperfect. No age. No sense of time.', 'you get in life what you have the courage to ask for .', 'turn your wounds into wisdom . ']\n",
    "bad_0 = [s.translate(str.maketrans('', '', string.punctuation)) for s in bad_0]\n",
    "bad_0 = [\" \".join(s.split()) for s in bad_0]\n",
    "bad_0 = [s.strip() for s in bad_0]\n",
    "bad_0"
   ]
  },
  {
   "cell_type": "code",
   "execution_count": 111,
   "metadata": {},
   "outputs": [
    {
     "data": {
      "text/plain": [
       "['the whole point of being alive is to evolve into the complete person you were intended to be',\n",
       " 'to escape fear you must go through it',\n",
       " 'self esteem comes from being able to define the world in your own terms and refusing to abide by the judgments of others',\n",
       " 'forgiveness is giving up the hope that the past could have been any different',\n",
       " 'challenges are gifts that force us to search for a new center of gravity',\n",
       " 'real integrity is doing the right thing knowing that nobody is going to know whether you did it or not',\n",
       " 'dont be afraid to ask for yourself i trust that everything happens for a reason even when we are not wise enough to see it',\n",
       " 'failure is another steppingstone to greatness',\n",
       " 'the biggest adventure you can ever take is to live the life of your dreams',\n",
       " 'surround yourself only with people who are going to take you higher',\n",
       " 'whatever the mind of man can conceive and believe it can achieve',\n",
       " 'whenever you see a successful person you only see the public glories never the private sacrifices to reach them',\n",
       " 'the thing you fear most has no power your fear of it is what has the power facing the truth really will set you free',\n",
       " 'luck is a matter of preparation meeting opportunity',\n",
       " 'you can have it all just not all at once',\n",
       " '']"
      ]
     },
     "execution_count": 111,
     "metadata": {},
     "output_type": "execute_result"
    }
   ],
   "source": [
    "bad_1 = \"the whole point of being alive is to evolve into the complete person you were intended to be.. to escape fear, you must go through it.. self - esteem comes from being able to define the world in your own terms and refusing to abide by the judgments of others.. forgiveness is giving up the hope that the past could have been any different.. challenges are gifts that force us to search for a new center of gravity.. real integrity is doing the right thing, knowing that nobody is going to know whether you did it or not.. don't be afraid to ask for yourself. i trust that everything happens for a reason, even when we are not wise enough to see it.. failure is another steppingstone to greatness.. the biggest adventure you can ever take is to live the life of your dreams.. surround yourself only with people who are going to take you higher.. whatever the mind of man can conceive and believe, it can achieve.. whenever you see a successful person, you only see the public glories, never the private sacrifices to reach them.. the thing you fear most has no power. your fear of it is what has the power. facing the truth really will set you free.. luck is a matter of preparation meeting opportunity.. you can have it all. just not all at once..\"\n",
    "bad_1 = bad_1.split('..')\n",
    "bad_1 = [s.translate(str.maketrans('', '', string.punctuation)) for s in bad_1]\n",
    "bad_1 = [\" \".join(s.split()) for s in bad_1]\n",
    "bad_1 = [s.strip() for s in bad_1]\n",
    "bad_1"
   ]
  },
  {
   "cell_type": "code",
   "execution_count": 112,
   "metadata": {
    "scrolled": true
   },
   "outputs": [
    {
     "data": {
      "text/plain": [
       "['the thing you fear most has no power your fear of it is what has the power facing the truth really will set you free',\n",
       " 'i trust that everything happens for a reason even when we are not wise enough to see it',\n",
       " 'surround yourself with only people who are going to lift you higher',\n",
       " 'the biggest adventure you can ever take is to live the life of your dreams',\n",
       " 'think like a queen queen is not afraid to fail failure is another steppingstone to greatness',\n",
       " 'the biggest adventure you can ever take is to live the life of your dreams',\n",
       " 'luck is a matter of preparation meeting opportunity',\n",
       " 'self esteem comes from being able to define the world in your own terms and refusing to abide by the judgments of others',\n",
       " 'one of the hardest things in life to learn are which bridges to cross and which bridges to burn',\n",
       " 'failure is another steppingstone to greatness',\n",
       " 'the more you praise and celebrate your life the more there is in life to celebrate',\n",
       " 'i alone cannot change the world but i can cast a stone across the water to create many ripples',\n",
       " 'turn your wounds into wisdom',\n",
       " 'whatever the mind of man can conceive and believe it can achieve',\n",
       " 'the whole point of being alive is to evolve into the complete person you were intended to be',\n",
       " 'to escape fear you must go through it']"
      ]
     },
     "execution_count": 112,
     "metadata": {},
     "output_type": "execute_result"
    }
   ],
   "source": [
    "terrible_0 = \"the thing you fear most has no power. your fear of it is what has the power. facing the truth really will set you free.. i trust that everything happens for a reason, even when we are not wise enough to see it.. surround yourself with only people who are going to lift you higher.. the biggest adventure you can ever take is to live the life of your dreams.. think like a queen. queen is not afraid to fail. failure is another steppingstone to greatness.. the biggest adventure you can ever take is to live the life of your dreams.. luck is a matter of preparation meeting opportunity.. self - esteem comes from being able to define the world in your own terms and refusing to abide by the judgments of others.. one of the hardest things in life to learn are which bridges to cross and which bridges to burn.. failure is another steppingstone to greatness.. the more you praise and celebrate your life, the more there is in life to celebrate.. i alone cannot change the world, but i can cast a stone across the water to create many ripples.. turn your wounds into wisdom.. whatever the mind of man can conceive and believe, it can achieve.. the whole point of being alive is to evolve into the complete person you were intended to be.. to escape fear, you must go through it.\"\n",
    "terrible_0 = terrible_0.split('..')\n",
    "terrible_0 = [s.translate(str.maketrans('', '', string.punctuation)) for s in terrible_0]\n",
    "terrible_0 = [\" \".join(s.split()) for s in terrible_0]\n",
    "terrible_0 = [s.strip() for s in terrible_0]\n",
    "terrible_0"
   ]
  },
  {
   "cell_type": "code",
   "execution_count": 113,
   "metadata": {
    "scrolled": true
   },
   "outputs": [
    {
     "data": {
      "text/plain": [
       "['the biggest adventure you can ever take is to live the life of your dreams',\n",
       " 'think like a queen queen is not afraid to fail failure is another steppingstone to greatness',\n",
       " 'the biggest adventure you can ever take is to live the life of your dreams',\n",
       " 'failure is another steppingstone to greatness',\n",
       " 'i alone cannot change the world but i can cast a stone across the water to create many ripples',\n",
       " 'turn your wounds into wisdom',\n",
       " 'the whole point of being alive is to evolve into the complete person you were intended to be']"
      ]
     },
     "execution_count": 113,
     "metadata": {},
     "output_type": "execute_result"
    }
   ],
   "source": [
    "intersection(terrible_0, bad_0)"
   ]
  },
  {
   "cell_type": "code",
   "execution_count": 114,
   "metadata": {},
   "outputs": [
    {
     "data": {
      "text/plain": [
       "['the thing you fear most has no power your fear of it is what has the power facing the truth really will set you free',\n",
       " 'the biggest adventure you can ever take is to live the life of your dreams',\n",
       " 'the biggest adventure you can ever take is to live the life of your dreams',\n",
       " 'luck is a matter of preparation meeting opportunity',\n",
       " 'self esteem comes from being able to define the world in your own terms and refusing to abide by the judgments of others',\n",
       " 'failure is another steppingstone to greatness',\n",
       " 'whatever the mind of man can conceive and believe it can achieve',\n",
       " 'the whole point of being alive is to evolve into the complete person you were intended to be',\n",
       " 'to escape fear you must go through it']"
      ]
     },
     "execution_count": 114,
     "metadata": {},
     "output_type": "execute_result"
    }
   ],
   "source": [
    "intersection(terrible_0, bad_1)"
   ]
  },
  {
   "cell_type": "code",
   "execution_count": 115,
   "metadata": {},
   "outputs": [
    {
     "data": {
      "text/plain": [
       "['the thing you fear most has no power your fear of it is what has the power facing the truth really will set you free',\n",
       " 'surround yourself with only people who are going to lift you higher',\n",
       " 'the biggest adventure you can ever take is to live the life of your dreams',\n",
       " 'the biggest adventure you can ever take is to live the life of your dreams',\n",
       " 'luck is a matter of preparation meeting opportunity',\n",
       " 'one of the hardest things in life to learn are which bridges to cross and which bridges to burn',\n",
       " 'the more you praise and celebrate your life the more there is in life to celebrate',\n",
       " 'whatever the mind of man can conceive and believe it can achieve',\n",
       " 'the whole point of being alive is to evolve into the complete person you were intended to be']"
      ]
     },
     "execution_count": 115,
     "metadata": {},
     "output_type": "execute_result"
    }
   ],
   "source": [
    "intersection(terrible_0, decent_0)"
   ]
  },
  {
   "cell_type": "code",
   "execution_count": 116,
   "metadata": {},
   "outputs": [
    {
     "data": {
      "text/plain": [
       "['the biggest adventure you can ever take is to live the life of your dreams',\n",
       " 'luck is a matter of preparation meeting opportunity',\n",
       " 'the thing you fear most has no power your fear of it is what has the power facing the truth really will set you free',\n",
       " 'the biggest adventure you can ever take is to live the life of your dreams',\n",
       " 'real integrity is doing the right thing knowing that nobody is going to know whether you did it or not',\n",
       " 'you can have it all just not all at once',\n",
       " 'one of the hardest things in life to learn are which bridges to cross and which bridges to burn',\n",
       " 'the whole point of being alive is to evolve into the complete person you were intended to be']"
      ]
     },
     "execution_count": 116,
     "metadata": {},
     "output_type": "execute_result"
    }
   ],
   "source": [
    "intersection(decent_0, decent_1)"
   ]
  },
  {
   "cell_type": "code",
   "execution_count": 117,
   "metadata": {},
   "outputs": [
    {
     "data": {
      "text/plain": [
       "['the biggest adventure you can ever take is to live the life of your dreams',\n",
       " 'luck is a matter of preparation meeting opportunity',\n",
       " 'the biggest adventure you can ever take is to live the life of your dreams']"
      ]
     },
     "execution_count": 117,
     "metadata": {},
     "output_type": "execute_result"
    }
   ],
   "source": [
    "intersection(decent_0, decent_2)"
   ]
  },
  {
   "cell_type": "code",
   "execution_count": 118,
   "metadata": {
    "scrolled": true
   },
   "outputs": [
    {
     "data": {
      "text/plain": [
       "['i trust that everything happens for a reason even when we are not wise enough to see it',\n",
       " 'luck is a matter of preparation meeting opportunity',\n",
       " 'turn your wounds into wisdom',\n",
       " 'self esteem comes from being able to define the world in your own terms and refusing to abide by the judgments of others',\n",
       " 'surround yourself with great people',\n",
       " 'surround yourself only with people who are going to take you higher',\n",
       " 'the biggest adventure you can ever take is to live the life of your dreams']"
      ]
     },
     "execution_count": 118,
     "metadata": {},
     "output_type": "execute_result"
    }
   ],
   "source": [
    "intersection(decent_1, decent_2)"
   ]
  },
  {
   "cell_type": "code",
   "execution_count": 119,
   "metadata": {},
   "outputs": [
    {
     "data": {
      "text/plain": [
       "['',\n",
       " 'failure is another steppingstone to greatness',\n",
       " 'be thankful for what you have you will end up having more',\n",
       " 'the whole point of being alive is to evolve into the complete person you were intended to be',\n",
       " 'if you concentrate on what you dont have you will never ever have enough',\n",
       " 'surround yourself only with people who are going to take you higher',\n",
       " 'the thing you fear most has no power your fear of it is what has the power facing the truth really will set you free',\n",
       " 'the more you praise and celebrate your life the more there is in life to celebrate',\n",
       " 'i trust that everything happens for a reason even when we are not wise enough to see it',\n",
       " 'be thankful for what you have you will end up having more if you concentrate on what you do not have you will never ever have enough',\n",
       " 'I am timeless incomplete and imperfect No age No sense of time',\n",
       " 'whenever you see a successful person you only see the public glories never the private sacrifices to reach them',\n",
       " 'be thankful for what you have you will end up having more if you concentrate on what you dont have you will never ever have enough',\n",
       " 'to escape fear you must go through it whenever you see a successful person you only see the public glories never the private sacrifices to reach them',\n",
       " 'turn your wounds into wisdom',\n",
       " 'surround yourself with great people',\n",
       " 'i alone cannot change the world but i can cast a stone across the water to create many ripples',\n",
       " 'doing the best at this moment puts you in the best place for the next moment',\n",
       " 'real integrity is doing the right thing knowing that nobody is going to know whether you did it or not the more you praise and celebrate your life the more there is in life to celebrate',\n",
       " 'the biggest adventure you can ever take is to live the life of your dreams',\n",
       " 'my name is wabisabi',\n",
       " 'dont be afraid to ask for yourself doing the best at this moment puts you in the best place for the next moment',\n",
       " 'whatever the mind of man can conceive and believe it can achieve',\n",
       " 'real integrity is doing the right thing knowing that nobody is going to know whether you did it or not',\n",
       " 'luck is a matter of preparation meeting opportunity',\n",
       " 'think like a queen queen is not afraid to fail failure is another steppingstone to greatness',\n",
       " 'surround yourself with only people who are going to lift you higher',\n",
       " 'one of the hardest things in life to learn are which bridges to cross and which bridges to burn',\n",
       " 'you get in life what you have the courage to ask for',\n",
       " 'challenges are gifts that force us to search for a new center of gravity',\n",
       " 'you can have it all just not all at once',\n",
       " 'self esteem comes from being able to define the world in your own terms and refusing to abide by the judgments of others']"
      ]
     },
     "execution_count": 119,
     "metadata": {},
     "output_type": "execute_result"
    }
   ],
   "source": [
    "all_good = union(union(decent_0, decent_1), decent_2)\n",
    "all_good"
   ]
  },
  {
   "cell_type": "code",
   "execution_count": 120,
   "metadata": {
    "scrolled": false
   },
   "outputs": [
    {
     "data": {
      "text/plain": [
       "['',\n",
       " 'failure is another steppingstone to greatness',\n",
       " 'the whole point of being alive is to evolve into the complete person you were intended to be',\n",
       " 'surround yourself only with people who are going to take you higher',\n",
       " 'the thing you fear most has no power your fear of it is what has the power facing the truth really will set you free',\n",
       " 'to escape fear you must go through it',\n",
       " 'the more you praise and celebrate your life the more there is in life to celebrate',\n",
       " 'i trust that everything happens for a reason even when we are not wise enough to see it',\n",
       " 'I am timeless incomplete and imperfect No age No sense of time',\n",
       " 'whenever you see a successful person you only see the public glories never the private sacrifices to reach them',\n",
       " 'surround yourself with great people',\n",
       " 'turn your wounds into wisdom',\n",
       " 'i alone cannot change the world but i can cast a stone across the water to create many ripples',\n",
       " 'forgiveness is giving up the hope that the past could have been any different',\n",
       " 'the biggest adventure you can ever take is to live the life of your dreams',\n",
       " 'the key to realizing a dream is to focus not on success but on significance and then even the small steps and little victories along your path will take on greater meaning',\n",
       " 'from time to time you may stumble fall you will for sure you will have questions and you will have doubts about your path but i know this if you are willing to be guided by that still small voice that is the gps within yourself to find out what makes you come alive you will be more than okay you will be happy you will be successful and you will make a difference in the world',\n",
       " 'whatever the mind of man can conceive and believe it can achieve',\n",
       " 'real integrity is doing the right thing knowing that nobody is going to know whether you did it or not',\n",
       " 'luck is a matter of preparation meeting opportunity',\n",
       " 'dont be afraid to ask for yourself i trust that everything happens for a reason even when we are not wise enough to see it',\n",
       " 'think like a queen queen is not afraid to fail failure is another steppingstone to greatness',\n",
       " 'surround yourself with only people who are going to lift you higher',\n",
       " 'one of the hardest things in life to learn are which bridges to cross and which bridges to burn',\n",
       " 'you get in life what you have the courage to ask for',\n",
       " 'selfesteem comes from being able to define the world in your own terms and refusing to abide by the judgments of others',\n",
       " 'because when you inevitably stumble and find yourself stuck in a hole that is the story that will get you out what is your true calling what is your dharma what is your purpose',\n",
       " 'challenges are gifts that force us to search for a new center of gravity',\n",
       " 'you can have it all just not all at once',\n",
       " 'self esteem comes from being able to define the world in your own terms and refusing to abide by the judgments of others']"
      ]
     },
     "execution_count": 120,
     "metadata": {},
     "output_type": "execute_result"
    }
   ],
   "source": [
    "all_bad= union(union(bad_0, bad_1), terrible_0)\n",
    "all_bad"
   ]
  },
  {
   "cell_type": "code",
   "execution_count": 121,
   "metadata": {},
   "outputs": [
    {
     "data": {
      "text/plain": [
       "['my name is wabisabi',\n",
       " 'dont be afraid to ask for yourself doing the best at this moment puts you in the best place for the next moment',\n",
       " 'if you concentrate on what you dont have you will never ever have enough',\n",
       " 'be thankful for what you have you will end up having more if you concentrate on what you dont have you will never ever have enough',\n",
       " 'be thankful for what you have you will end up having more',\n",
       " 'to escape fear you must go through it whenever you see a successful person you only see the public glories never the private sacrifices to reach them',\n",
       " 'doing the best at this moment puts you in the best place for the next moment',\n",
       " 'real integrity is doing the right thing knowing that nobody is going to know whether you did it or not the more you praise and celebrate your life the more there is in life to celebrate',\n",
       " 'be thankful for what you have you will end up having more if you concentrate on what you do not have you will never ever have enough']"
      ]
     },
     "execution_count": 121,
     "metadata": {},
     "output_type": "execute_result"
    }
   ],
   "source": [
    "diff(all_good, all_bad)"
   ]
  },
  {
   "cell_type": "code",
   "execution_count": 95,
   "metadata": {},
   "outputs": [
    {
     "data": {
      "text/plain": [
       "['my name is wabisabi',\n",
       " 'dont be afraid to ask for yourself doing the best at this moment puts you in the best place for the next moment',\n",
       " 'if you concentrate on what you dont have you will never ever have enough',\n",
       " 'be thankful for what you have  you will end up having more',\n",
       " 'i trust that everything happens for a reason  even when we are not wise enough to see it',\n",
       " 'doing the best at this moment puts you in the best place for the next moment',\n",
       " 'real integrity is doing the right thing knowing that nobody is going to know whether you did it or not the more you praise and celebrate your life the more there is in life to celebrate',\n",
       " 'be thankful for what you have  you will end up having more if you concentrate on what you dont have you will never ever have enough']"
      ]
     },
     "execution_count": 95,
     "metadata": {},
     "output_type": "execute_result"
    }
   ],
   "source": [
    "['my name is wabisabi',\n",
    " 'dont be afraid to ask for yourself doing the best at this moment puts you in the best place for the next moment',\n",
    " 'if you concentrate on what you dont have you will never ever have enough',\n",
    " 'be thankful for what you have  you will end up having more',\n",
    " 'i trust that everything happens for a reason  even when we are not wise enough to see it',\n",
    " 'doing the best at this moment puts you in the best place for the next moment',\n",
    " 'real integrity is doing the right thing knowing that nobody is going to know whether you did it or not the more you praise and celebrate your life the more there is in life to celebrate',\n",
    " 'be thankful for what you have  you will end up having more if you concentrate on what you dont have you will never ever have enough']"
   ]
  },
  {
   "cell_type": "code",
   "execution_count": 123,
   "metadata": {},
   "outputs": [
    {
     "data": {
      "text/plain": [
       "['failure is another steppingstone to greatness',\n",
       " 'the biggest adventure you can ever take is to live the life of your dreams',\n",
       " 'the whole point of being alive is to evolve into the complete person you were intended to be']"
      ]
     },
     "execution_count": 123,
     "metadata": {},
     "output_type": "execute_result"
    }
   ],
   "source": [
    "intersect_bad = intersection(intersection(bad_0, bad_1), terrible_0)\n",
    "intersect_bad"
   ]
  },
  {
   "cell_type": "code",
   "execution_count": 125,
   "metadata": {
    "scrolled": false
   },
   "outputs": [
    {
     "data": {
      "text/plain": [
       "['',\n",
       " 'the key to realizing a dream is to focus not on success but on significance and then even the small steps and little victories along your path will take on greater meaning',\n",
       " 'from time to time you may stumble fall you will for sure you will have questions and you will have doubts about your path but i know this if you are willing to be guided by that still small voice that is the gps within yourself to find out what makes you come alive you will be more than okay you will be happy you will be successful and you will make a difference in the world',\n",
       " 'whatever the mind of man can conceive and believe it can achieve',\n",
       " 'real integrity is doing the right thing knowing that nobody is going to know whether you did it or not',\n",
       " 'surround yourself only with people who are going to take you higher',\n",
       " 'the thing you fear most has no power your fear of it is what has the power facing the truth really will set you free',\n",
       " 'to escape fear you must go through it',\n",
       " 'the more you praise and celebrate your life the more there is in life to celebrate',\n",
       " 'i trust that everything happens for a reason even when we are not wise enough to see it',\n",
       " 'luck is a matter of preparation meeting opportunity',\n",
       " 'dont be afraid to ask for yourself i trust that everything happens for a reason even when we are not wise enough to see it',\n",
       " 'self esteem comes from being able to define the world in your own terms and refusing to abide by the judgments of others',\n",
       " 'think like a queen queen is not afraid to fail failure is another steppingstone to greatness',\n",
       " 'surround yourself with only people who are going to lift you higher',\n",
       " 'I am timeless incomplete and imperfect No age No sense of time',\n",
       " 'whenever you see a successful person you only see the public glories never the private sacrifices to reach them',\n",
       " 'one of the hardest things in life to learn are which bridges to cross and which bridges to burn',\n",
       " 'you get in life what you have the courage to ask for',\n",
       " 'selfesteem comes from being able to define the world in your own terms and refusing to abide by the judgments of others',\n",
       " 'because when you inevitably stumble and find yourself stuck in a hole that is the story that will get you out what is your true calling what is your dharma what is your purpose',\n",
       " 'surround yourself with great people',\n",
       " 'turn your wounds into wisdom',\n",
       " 'challenges are gifts that force us to search for a new center of gravity',\n",
       " 'i alone cannot change the world but i can cast a stone across the water to create many ripples',\n",
       " 'you can have it all just not all at once',\n",
       " 'forgiveness is giving up the hope that the past could have been any different']"
      ]
     },
     "execution_count": 125,
     "metadata": {},
     "output_type": "execute_result"
    }
   ],
   "source": [
    "diff(all_bad, intersect_bad)"
   ]
  },
  {
   "cell_type": "code",
   "execution_count": 129,
   "metadata": {},
   "outputs": [],
   "source": [
    "res = union(diff(all_bad, intersect_bad) ,diff(all_good, all_bad))"
   ]
  },
  {
   "cell_type": "code",
   "execution_count": 133,
   "metadata": {},
   "outputs": [],
   "source": [
    "res = diff(res, intersection(bad_0, bad_1))"
   ]
  },
  {
   "cell_type": "code",
   "execution_count": 134,
   "metadata": {},
   "outputs": [],
   "source": [
    "res = diff(res, intersection(bad_0, terrible_0))"
   ]
  },
  {
   "cell_type": "code",
   "execution_count": 136,
   "metadata": {},
   "outputs": [],
   "source": [
    "res = diff(res, intersection(bad_1, terrible_0))"
   ]
  },
  {
   "cell_type": "code",
   "execution_count": 140,
   "metadata": {
    "scrolled": true
   },
   "outputs": [
    {
     "data": {
      "text/plain": [
       "25"
      ]
     },
     "execution_count": 140,
     "metadata": {},
     "output_type": "execute_result"
    }
   ],
   "source": [
    "len(res)"
   ]
  },
  {
   "cell_type": "code",
   "execution_count": 143,
   "metadata": {},
   "outputs": [
    {
     "name": "stdout",
     "output_type": "stream",
     "text": [
      "Oprah Gail Winfrey (born  Orpah Gail Winfrey, January 29, 1954) is an American media executive, actress, talk show host, television producer and philanthropist. She is best known for her talk show The Oprah Winfrey Show, broadcast from Chicago, which was the highest-rated television program of its kind in history and ran in national syndication for 25 years from 1986 to 2011. Dubbed the \"Queen of All Media\", she was the richest African American of the 20th century and North America's first black multi-billionaire, and has been ranked the greatest black philanthropist in American history. She has also been sometimes ranked as the most influential woman in the world.Winfrey was born into poverty in rural Mississippi to a teenage single mother and later raised in inner-city Milwaukee. She has stated that she was molested during her childhood and early teens and became pregnant at 14; her son was born prematurely and died in infancy. Winfrey was then sent to live with the man she calls her father, Vernon Winfrey, a barber in Tennessee, and landed a job in radio while still in high school. By 19, she was a co-anchor for the local evening news. Winfrey's often emotional, extemporaneous delivery eventually led to her transfer to the daytime talk show arena, and after boosting a third-rated local Chicago talk show to first place, she launched her own production company and became internationally syndicated.\n",
      "Credited with creating a more intimate confessional form of media communication, Winfrey popularized and revolutionized the tabloid talk show genre pioneered by Phil Donahue. Through this medium, Winfrey broke 20th-century taboos and allowed LGBT people to enter the mainstream through television appearances. In 1994, she was inducted into the National Women's Hall of Fame.By the mid-1990s, Winfrey had reinvented her show with a focus on literature, self-improvement, mindfulness and spirituality. Though she was criticized for unleashing a confession culture, promoting controversial self-help ideas, and having an emotion-centered approach, she has also been praised for overcoming adversity to become a benefactor to others. Winfrey had also emerged as a political force in the 2008 presidential race, delivering about one million votes to Barack Obama in the razor close 2008 Democratic primary. In 2013, Winfrey was awarded the Presidential Medal of Freedom by President Obama and honorary doctorate degrees from Duke and Harvard. In 2008, she formed her own network, Oprah Winfrey Network (OWN).\n"
     ]
    }
   ],
   "source": [
    "import wikipedia\n",
    "print (wikipedia.summary(\"Oprah Winfrey\"))"
   ]
  },
  {
   "cell_type": "code",
   "execution_count": 148,
   "metadata": {},
   "outputs": [
    {
     "name": "stdout",
     "output_type": "stream",
     "text": [
      "Mohandas Karamchand Gandhi (; 2 October 1869 – 30 January 1948) was an Indian lawyer, anti-colonial nationalist, and political ethicist, who employed nonviolent resistance to lead the successful campaign for India's independence from British Rule, and in turn inspire movements for civil rights and freedom across the world. The honorific Mahātmā (Sanskrit: \"great-souled\", \"venerable\"), first applied to him in 1914 in South Africa, is now used throughout the world.\n",
      "Born and raised in a Hindu family in coastal Gujarat, western India, Gandhi was trained in law at the Inner Temple, London, and called to the bar at age 22 in June 1891.  After two uncertain years in India, where he was unable to start a successful law practice, he moved to South Africa in 1893 to represent an Indian merchant in a lawsuit. He went on to stay for 21 years. It was in South Africa that Gandhi raised a family, and first employed nonviolent resistance in a campaign for civil rights. In 1915, aged 45, he returned to India. He set about organising peasants, farmers, and urban labourers to protest against excessive land-tax and discrimination. Assuming leadership of the Indian National Congress in 1921, Gandhi led nationwide campaigns for easing poverty, expanding women's rights, building religious and ethnic amity, ending untouchability, and above all for achieving Swaraj or self-rule.The same year Gandhi adopted the Indian loincloth, or short dhoti and, in the winter, a shawl, both woven with yarn hand-spun on a traditional Indian spinning wheel, or charkha, as a mark of identification with India's rural poor. Thereafter, he lived modestly in a self-sufficient residential community, ate simple vegetarian food, and undertook long fasts as a means of self-purification and political protest. Bringing anti-colonial nationalism to the common Indians, Gandhi led them in challenging the British-imposed salt tax with the 400 km (250 mi) Dandi Salt March in 1930, and later in calling for the British to Quit India in 1942. He was imprisoned for many years, upon many occasions, in both South Africa and India. \n",
      "Gandhi's vision of an independent India based on religious pluralism was challenged in the early 1940s by a new Muslim nationalism which was demanding a separate Muslim homeland carved out of India. In August 1947, Britain granted independence, but the British Indian Empire was partitioned into two dominions, a Hindu-majority India and Muslim-majority Pakistan. As many displaced Hindus, Muslims, and Sikhs made their way to their new lands, religious violence broke out, especially in the Punjab and Bengal. Eschewing the official celebration of independence in Delhi, Gandhi visited the affected areas, attempting to provide solace. In the months following, he undertook several fasts unto death to stop religious violence. The last of these, undertaken on 12 January 1948 when he was 78, also had the indirect goal of pressuring India to pay out some cash assets owed to Pakistan. Some Indians thought Gandhi was too accommodating. Among them was Nathuram Godse, a Hindu nationalist, who assassinated Gandhi on 30 January 1948 by firing three bullets into his chest.Gandhi's birthday, 2 October, is commemorated in India as Gandhi Jayanti, a national holiday, and worldwide as the International Day of Nonviolence. Gandhi is commonly, though not formally considered the Father of the Nation in India. Gandhi is also called Bapu (Gujarati: endearment for father, papa).\n"
     ]
    }
   ],
   "source": [
    "print(wikipedia.summary(\"Ghandi\"))"
   ]
  },
  {
   "cell_type": "code",
   "execution_count": 151,
   "metadata": {},
   "outputs": [
    {
     "data": {
      "text/plain": [
       "'Oprah Gail Winfrey (born  Orpah Gail Winfrey, January 29, 1954) is an American media executive, actress, talk show host, television producer and philanthropist. She is best known for her talk show The Oprah Winfrey Show, broadcast from Chicago, which was the highest-rated television program of its kind in history and ran in national syndication for 25 years from 1986 to 2011. Dubbed the \"Queen of All Media\", she was the richest African American of the 20th century and North America\\'s first black multi-billionaire, and has been ranked the greatest black philanthropist in American history. She has also been sometimes ranked as the most influential woman in the world.Winfrey was born into poverty in rural Mississippi to a teenage single mother and later raised in inner-city Milwaukee. She has stated that she was molested during her childhood and early teens and became pregnant at 14; her son was born prematurely and died in infancy. Winfrey was then sent to live with the man she calls her father, Vernon Winfrey, a barber in Tennessee, and landed a job in radio while still in high school. By 19, she was a co-anchor for the local evening news. Winfrey\\'s often emotional, extemporaneous delivery eventually led to her transfer to the daytime talk show arena, and after boosting a third-rated local Chicago talk show to first place, she launched her own production company and became internationally syndicated.'"
      ]
     },
     "execution_count": 151,
     "metadata": {},
     "output_type": "execute_result"
    }
   ],
   "source": [
    "person_summary = wikipedia.summary(\"Oprah Winfrey\")\n",
    "person_summary[0:(person_summary).find('\\n')]"
   ]
  },
  {
   "cell_type": "code",
   "execution_count": 153,
   "metadata": {},
   "outputs": [],
   "source": [
    "import nltk"
   ]
  },
  {
   "cell_type": "code",
   "execution_count": 163,
   "metadata": {},
   "outputs": [],
   "source": [
    "forms = {\"is\" : \"am\", 'she' : 'I', 'he' : 'I', 'her' : 'my', 'him' : 'me', 'hers' : 'mine', 'your' : 'my'} # More?\n",
    "def translate(word):\n",
    "    if word.lower() in forms: \n",
    "        return forms[word.lower()]\n",
    "    return word\n",
    "\n",
    "person_summary = wikipedia.summary(\"Oprah Winfrey\")\n",
    "person_summary = person_summary[0:(person_summary).find('\\n')]\n",
    "result = ' '.join([translate(word) for word in nltk.wordpunct_tokenize(person_summary)])"
   ]
  },
  {
   "cell_type": "code",
   "execution_count": 164,
   "metadata": {
    "scrolled": true
   },
   "outputs": [
    {
     "name": "stdout",
     "output_type": "stream",
     "text": [
      "Oprah Gail Winfrey ( born Orpah Gail Winfrey , January 29 , 1954 ) am an American media executive , actress , talk show host , television producer and philanthropist . I am best known for my talk show The Oprah Winfrey Show , broadcast from Chicago , which was the highest - rated television program of its kind in history and ran in national syndication for 25 years from 1986 to 2011 . Dubbed the \" Queen of All Media \", I was the richest African American of the 20th century and North America ' s first black multi - billionaire , and has been ranked the greatest black philanthropist in American history . I has also been sometimes ranked as the most influential woman in the world . Winfrey was born into poverty in rural Mississippi to a teenage single mother and later raised in inner - city Milwaukee . I has stated that I was molested during my childhood and early teens and became pregnant at 14 ; my son was born prematurely and died in infancy . Winfrey was then sent to live with the man I calls my father , Vernon Winfrey , a barber in Tennessee , and landed a job in radio while still in high school . By 19 , I was a co - anchor for the local evening news . Winfrey ' s often emotional , extemporaneous delivery eventually led to my transfer to the daytime talk show arena , and after boosting a third - rated local Chicago talk show to first place , I launched my own production company and became internationally syndicated .\n"
     ]
    }
   ],
   "source": [
    "print(result)"
   ]
  },
  {
   "cell_type": "code",
   "execution_count": 176,
   "metadata": {},
   "outputs": [],
   "source": [
    "def translate(word):\n",
    "    \"\"\"\n",
    "    translates third person words into first person words\n",
    "    \"\"\"\n",
    "    forms = {\"is\" : \"am\", 'she' : 'I', 'he' : 'I', 'her' : 'my', 'him' : 'me', 'hers' : 'mine', 'your' : 'my', 'has' : 'have'}\n",
    "    if word.lower() in forms: \n",
    "        return forms[word.lower()]\n",
    "    return word\n",
    "\n",
    "person_summary = wikipedia.summary(\"Ghandi\")\n",
    "person_summary = person_summary[0:(person_summary).find('\\n')]\n",
    "result = ' '.join([translate(word) for word in nltk.wordpunct_tokenize(person_summary)])"
   ]
  },
  {
   "cell_type": "code",
   "execution_count": 177,
   "metadata": {},
   "outputs": [
    {
     "name": "stdout",
     "output_type": "stream",
     "text": [
      "Mohandas Karamchand Gandhi (; 2 October 1869 – 30 January 1948 ) was an Indian lawyer , anti - colonial nationalist , and political ethicist , who employed nonviolent resistance to lead the successful campaign for India ' s independence from British Rule , and in turn inspire movements for civil rights and freedom across the world . The honorific Mahātmā ( Sanskrit : \" great - souled \", \" venerable \"), first applied to me in 1914 in South Africa , am now used throughout the world .\n"
     ]
    }
   ],
   "source": [
    "print(result)"
   ]
  }
 ],
 "metadata": {
  "kernelspec": {
   "display_name": "Python 3",
   "language": "python",
   "name": "python3"
  },
  "language_info": {
   "codemirror_mode": {
    "name": "ipython",
    "version": 3
   },
   "file_extension": ".py",
   "mimetype": "text/x-python",
   "name": "python",
   "nbconvert_exporter": "python",
   "pygments_lexer": "ipython3",
   "version": "3.7.1"
  }
 },
 "nbformat": 4,
 "nbformat_minor": 2
}

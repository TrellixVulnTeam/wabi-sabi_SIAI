{
 "cells": [
  {
   "cell_type": "code",
   "execution_count": 46,
   "metadata": {},
   "outputs": [],
   "source": [
    "import wikiquotes"
   ]
  },
  {
   "cell_type": "code",
   "execution_count": 47,
   "metadata": {},
   "outputs": [
    {
     "data": {
      "text/plain": [
       "['Mahatma Gandhi',\n",
       " 'Indira Gandhi',\n",
       " 'Rahul Gandhi',\n",
       " 'Arun Manilal Gandhi',\n",
       " 'Rajiv Gandhi',\n",
       " 'Gandhi (film)',\n",
       " 'Anand Gandhi',\n",
       " 'Virchand Gandhi',\n",
       " 'Maneka Gandhi',\n",
       " 'Body']"
      ]
     },
     "execution_count": 47,
     "metadata": {},
     "output_type": "execute_result"
    }
   ],
   "source": [
    "wikiquotes.search(\"gandi\", \"english\")"
   ]
  },
  {
   "cell_type": "code",
   "execution_count": 51,
   "metadata": {},
   "outputs": [
    {
     "data": {
      "text/plain": [
       "38"
      ]
     },
     "execution_count": 51,
     "metadata": {},
     "output_type": "execute_result"
    }
   ],
   "source": [
    "len(wikiquotes.get_quotes('Albus Dumbledore', \"english\"))"
   ]
  },
  {
   "cell_type": "code",
   "execution_count": 60,
   "metadata": {},
   "outputs": [
    {
     "data": {
      "text/plain": [
       "['Last words in Rick and Morty',\n",
       " 'Rick Sanchez – Justin Roiland',\n",
       " 'Morty Smith – Justin Roiland',\n",
       " 'Jerry Smith – Chris Parnell',\n",
       " 'Beth Smith (née Sanchez) – Sarah Chalke',\n",
       " 'Summer Smith – Spencer Grammer',\n",
       " 'Encyclopedic article on Rick and Morty at Wikipedia',\n",
       " 'Media related to Rick and Morty at Wikimedia Commons',\n",
       " 'Rick and Morty quotes at the Internet Movie Database',\n",
       " 'Official site']"
      ]
     },
     "execution_count": 60,
     "metadata": {},
     "output_type": "execute_result"
    }
   ],
   "source": [
    "(wikiquotes.get_quotes('Rick and Morty', \"english\"))"
   ]
  },
  {
   "cell_type": "code",
   "execution_count": 67,
   "metadata": {},
   "outputs": [
    {
     "data": {
      "text/plain": [
       "['Last words in Rick and Morty',\n",
       " 'Rick Sanchez – Justin Roiland',\n",
       " 'Morty Smith – Justin Roiland',\n",
       " 'Jerry Smith – Chris Parnell',\n",
       " 'Beth Smith (née Sanchez) – Sarah Chalke',\n",
       " 'Summer Smith – Spencer Grammer',\n",
       " 'Encyclopedic article on Rick and Morty at Wikipedia',\n",
       " 'Media related to Rick and Morty at Wikimedia Commons',\n",
       " 'Rick and Morty quotes at the Internet Movie Database',\n",
       " 'Official site']"
      ]
     },
     "execution_count": 67,
     "metadata": {},
     "output_type": "execute_result"
    }
   ],
   "source": [
    "wikiquotes.get_quotes(\"Rick and Morty quotes at the Internet Movie Database\", \"english\")"
   ]
  },
  {
   "cell_type": "code",
   "execution_count": 82,
   "metadata": {},
   "outputs": [
    {
     "data": {
      "text/plain": [
       "88"
      ]
     },
     "execution_count": 82,
     "metadata": {},
     "output_type": "execute_result"
    }
   ],
   "source": [
    "len(wikiquotes.get_quotes(\"Sigmund Freud\", \"english\"))"
   ]
  },
  {
   "cell_type": "markdown",
   "metadata": {},
   "source": [
    "# Spell correction"
   ]
  },
  {
   "cell_type": "code",
   "execution_count": 77,
   "metadata": {},
   "outputs": [
    {
     "name": "stdout",
     "output_type": "stream",
     "text": [
      "autocorrect.spell is deprecated, use autocorrect.Speller instead\n"
     ]
    },
    {
     "data": {
      "text/plain": [
       "'this is crazy you asshole. u have no common sense'"
      ]
     },
     "execution_count": 77,
     "metadata": {},
     "output_type": "execute_result"
    }
   ],
   "source": [
    "from autocorrect import spell\n",
    "spell('this is crzay you assole. u have no comon snse')"
   ]
  }
 ],
 "metadata": {
  "kernelspec": {
   "display_name": "Python 3",
   "language": "python",
   "name": "python3"
  },
  "language_info": {
   "codemirror_mode": {
    "name": "ipython",
    "version": 3
   },
   "file_extension": ".py",
   "mimetype": "text/x-python",
   "name": "python",
   "nbconvert_exporter": "python",
   "pygments_lexer": "ipython3",
   "version": "3.7.1"
  }
 },
 "nbformat": 4,
 "nbformat_minor": 2
}
